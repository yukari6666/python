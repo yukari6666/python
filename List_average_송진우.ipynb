{
 "cells": [
  {
   "cell_type": "markdown",
   "metadata": {},
   "source": [
    "# list average"
   ]
  },
  {
   "cell_type": "code",
   "execution_count": 5,
   "metadata": {},
   "outputs": [],
   "source": [
    "# 리스트 = list\n",
    "def listFunction(list):\n",
    "    list.sort() #step1\n",
    "    del list[0] #step2\n",
    "    del list[len(list)-1] #step3\n",
    "    sum(list)/len(list) #step4\n",
    "    return sum(list)/len(list) #result"
   ]
  },
  {
   "cell_type": "code",
   "execution_count": 6,
   "metadata": {},
   "outputs": [],
   "source": [
    "def listFunction2(list):\n",
    "    list.remove(list.index(min(list))) #step1\n",
    "    list.remove(list.index(max(list))) #step2\n",
    "    sum(list)/len(list) #step3\n",
    "    return sum(list)/len(list) #result"
   ]
  },
  {
   "cell_type": "code",
   "execution_count": 15,
   "metadata": {},
   "outputs": [],
   "source": [
    "def listFunction3(list):\n",
    "    list.pop(list.index(min(list))) #step1\n",
    "    list.pop(list.index(max(list))) #step2\n",
    "    sum(list)/len(list) #step3\n",
    "    return sum(list)/len(list) #result"
   ]
  },
  {
   "cell_type": "code",
   "execution_count": 26,
   "metadata": {},
   "outputs": [
    {
     "data": {
      "text/plain": [
       "5.0"
      ]
     },
     "execution_count": 26,
     "metadata": {},
     "output_type": "execute_result"
    }
   ],
   "source": [
    "testList = [0, 1, 2, 3, 4, 5, 6, 7, 8, 9, 10]\n",
    "listFunction(testList)"
   ]
  },
  {
   "cell_type": "code",
   "execution_count": 29,
   "metadata": {},
   "outputs": [
    {
     "data": {
      "text/plain": [
       "5.111111111111111"
      ]
     },
     "execution_count": 29,
     "metadata": {},
     "output_type": "execute_result"
    }
   ],
   "source": [
    "testList = [0, 1, 2, 3, 4, 5, 6, 7, 8, 9, 10]\n",
    "listFunction2(testList)\n",
    "# 검토 필요"
   ]
  },
  {
   "cell_type": "code",
   "execution_count": 28,
   "metadata": {},
   "outputs": [
    {
     "data": {
      "text/plain": [
       "5.0"
      ]
     },
     "execution_count": 28,
     "metadata": {},
     "output_type": "execute_result"
    }
   ],
   "source": [
    "testList = [0, 1, 2, 3, 4, 5, 6, 7, 8, 9, 10]\n",
    "listFunction3(testList)\n",
    "\n"
   ]
  },
  {
   "cell_type": "code",
   "execution_count": 3,
   "metadata": {},
   "outputs": [],
   "source": [
    "def calculate(x,y):\n",
    "\n",
    "    test = input(\"어떤 계산을 하시겠습니까?: plus, minus, division, multiply\")\n",
    "    if (test == \"plus\"):\n",
    "        result = (x + y)\n",
    "    elif (test == \"minus\"):\n",
    "        result = (x - y)\n",
    "    elif (test == \"division\"):\n",
    "        result = (x / y)\n",
    "    elif (test == \"multiply\"):\n",
    "        result = (x * y)\n",
    "    else:\n",
    "        result = (\"제대로 입력하십시오.\")\n",
    "\n",
    "    return result"
   ]
  },
  {
   "cell_type": "code",
   "execution_count": 4,
   "metadata": {},
   "outputs": [
    {
     "name": "stdout",
     "output_type": "stream",
     "text": [
      "어떤 계산을 하시겠습니까?: plus, minus, division, multiplyplus\n"
     ]
    },
    {
     "data": {
      "text/plain": [
       "4"
      ]
     },
     "execution_count": 4,
     "metadata": {},
     "output_type": "execute_result"
    }
   ],
   "source": [
    "calculate(2, 2)"
   ]
  },
  {
   "cell_type": "code",
   "execution_count": 5,
   "metadata": {},
   "outputs": [],
   "source": [
    "inputList = [\"11\",\"1234\",\"222\",\"555\"]"
   ]
  },
  {
   "cell_type": "code",
   "execution_count": 23,
   "metadata": {},
   "outputs": [
    {
     "name": "stdout",
     "output_type": "stream",
     "text": [
      "1245\n"
     ]
    }
   ],
   "source": [
    "i = 0\n",
    "j = 1\n",
    "a = int(inputList[i])\n",
    "b = int(inputList[j])\n",
    "print(a+b)"
   ]
  },
  {
   "cell_type": "code",
   "execution_count": 115,
   "metadata": {},
   "outputs": [
    {
     "data": {
      "text/plain": [
       "2022.0"
      ]
     },
     "execution_count": 115,
     "metadata": {},
     "output_type": "execute_result"
    }
   ],
   "source": [
    "inputList = [\"11\",\"1234\",\"222\",\"555\"]\n",
    "inputListLen = len(inputList)\n",
    "i = 0\n",
    "a = 0\n",
    "while(i < inputListLen):\n",
    "    a = a + float(inputList[i])\n",
    "    if(i == 0):\n",
    "        float(inputList[i])\n",
    "    elif(i == 1):\n",
    "        float(inputList[i])\n",
    "    elif(i > 1):\n",
    "        float(inputList[i])\n",
    "    else:\n",
    "        print(\"오류가 발생했습니다.\")\n",
    "    i=i+1\n",
    "a"
   ]
  },
  {
   "cell_type": "code",
   "execution_count": 109,
   "metadata": {},
   "outputs": [
    {
     "name": "stdout",
     "output_type": "stream",
     "text": [
      "0\n"
     ]
    }
   ],
   "source": [
    "inputList = [\"11\",\"1234\",\"222\",\"555\"]\n",
    "inputListLen = len(inputList)\n",
    "\n",
    "while(i < inputListLen):\n",
    "    sum = 0\n",
    "    sum = sum + inputList[i]\n",
    "    if(i == 0):\n",
    "        float(inputList[i])\n",
    "print(sum)"
   ]
  },
  {
   "cell_type": "code",
   "execution_count": 111,
   "metadata": {},
   "outputs": [
    {
     "data": {
      "text/plain": [
       "11.0"
      ]
     },
     "execution_count": 111,
     "metadata": {},
     "output_type": "execute_result"
    }
   ],
   "source": [
    "inputList = [\"11\",\"1234\",\"222\",\"555\"]\n",
    "i = 0\n",
    "float(inputList[i])"
   ]
  },
  {
   "cell_type": "code",
   "execution_count": 128,
   "metadata": {},
   "outputs": [],
   "source": [
    "def strListSum(inputList):\n",
    "    inputListLen = len(inputList)\n",
    "    i = 0\n",
    "    a = 0\n",
    "    while(i < inputListLen):\n",
    "        a = a + float(inputList[i])\n",
    "        if(i == 0):\n",
    "            float(inputList[i])\n",
    "        elif(i == 1):\n",
    "            float(inputList[i])\n",
    "        elif(i > 1):\n",
    "            float(inputList[i])\n",
    "        else:\n",
    "            print(\"오류가 발생했습니다.\")\n",
    "        i=i+1\n",
    "    return a"
   ]
  },
  {
   "cell_type": "code",
   "execution_count": 130,
   "metadata": {},
   "outputs": [
    {
     "data": {
      "text/plain": [
       "2022.0"
      ]
     },
     "execution_count": 130,
     "metadata": {},
     "output_type": "execute_result"
    }
   ],
   "source": [
    "inputList = [\"11\",\"1234\",\"222\",\"555\"]\n",
    "strListSum(inputList)"
   ]
  },
  {
   "cell_type": "code",
   "execution_count": null,
   "metadata": {},
   "outputs": [],
   "source": []
  }
 ],
 "metadata": {
  "kernelspec": {
   "display_name": "Python 3",
   "language": "python",
   "name": "python3"
  }
 },
 "nbformat": 4,
 "nbformat_minor": 2
}
