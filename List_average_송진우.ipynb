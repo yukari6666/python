{
 "cells": [
  {
   "cell_type": "markdown",
   "metadata": {},
   "source": [
    "# list average"
   ]
  },
  {
   "cell_type": "code",
   "execution_count": 1,
   "metadata": {},
   "outputs": [],
   "source": [
    "# 리스트 = list\n",
    "def listFunction(list):\n",
    "    list.sort() #step1\n",
    "    del list[0] #step2\n",
    "    del list[len(list)-1] #step3\n",
    "    sum(list)/len(list) #step4\n",
    "    return sum(list)/len(list) #result"
   ]
  },
  {
   "cell_type": "code",
   "execution_count": 2,
   "metadata": {},
   "outputs": [],
   "source": [
    "def listFunction2(list):\n",
    "    list.remove(min(list)) #step1\n",
    "    list.remove(max(list)) #step2 ((index.(max(list))) 이 코드일 경우 이미 최소 인덱스가 날아간 상태에서 실행되기 때문에\n",
    "    #10개의 리스트 중 최대 자리인 9번째 자리를 찾아 날리게 됨. 그 경우 리스트에서 0이 빠져 [1~10]이라는 리스트에서 최대 값인 10의 인덱스는\n",
    "    #9가 된다.\n",
    "    #즉 10이 아닌 9가 날아가게 되는 것. remove는 값을 날리는 것이므로 오류로 인덱스 9를 값 9로 인식해 10이 아닌 9를 지운다.\n",
    "    sum(list)/len(list) #step3\n",
    "    return sum(list)/len(list) #result"
   ]
  },
  {
   "cell_type": "code",
   "execution_count": 3,
   "metadata": {},
   "outputs": [],
   "source": [
    "def listFunction3(list):\n",
    "    list.pop(list.index(min(list))) #step1\n",
    "    list.pop(list.index(max(list))) #step2\n",
    "    sum(list)/len(list) #step3\n",
    "    return sum(list)/len(list) #result"
   ]
  },
  {
   "cell_type": "code",
   "execution_count": 4,
   "metadata": {},
   "outputs": [
    {
     "data": {
      "text/plain": [
       "5.0"
      ]
     },
     "execution_count": 4,
     "metadata": {},
     "output_type": "execute_result"
    }
   ],
   "source": [
    "testList = [0, 1, 2, 3, 4, 5, 6, 7, 8, 9, 10]\n",
    "listFunction(testList)"
   ]
  },
  {
   "cell_type": "code",
   "execution_count": 5,
   "metadata": {},
   "outputs": [
    {
     "data": {
      "text/plain": [
       "5.0"
      ]
     },
     "execution_count": 5,
     "metadata": {},
     "output_type": "execute_result"
    }
   ],
   "source": [
    "testList = [0, 1, 2, 3, 4, 5, 6, 7, 8, 9, 10]\n",
    "listFunction2(testList)"
   ]
  },
  {
   "cell_type": "code",
   "execution_count": 6,
   "metadata": {},
   "outputs": [
    {
     "data": {
      "text/plain": [
       "5.0"
      ]
     },
     "execution_count": 6,
     "metadata": {},
     "output_type": "execute_result"
    }
   ],
   "source": [
    "testList = [0, 1, 2, 3, 4, 5, 6, 7, 8, 9, 10]\n",
    "listFunction3(testList)"
   ]
  },
  {
   "cell_type": "code",
   "execution_count": 39,
   "metadata": {},
   "outputs": [],
   "source": [
    "def calculate(x,y):\n",
    "    test = (1,2,3,4)\n",
    "    input(\"어떤 계산을 하시겠습니까?: 1.plus 2.minus 3.division 4.multiply\")\n",
    "    if (test(1)):\n",
    "        result = (x + y)\n",
    "    elif (test(2)):\n",
    "        result = (x - y)\n",
    "    elif (test(3)):\n",
    "        result = (x / y)\n",
    "    elif (test(4)):\n",
    "        result = (x * y)\n",
    "    else:\n",
    "        result = (\"제대로 입력하십시오.\")\n",
    "\n",
    "    return result"
   ]
  },
  {
   "cell_type": "code",
   "execution_count": 40,
   "metadata": {},
   "outputs": [
    {
     "name": "stdout",
     "output_type": "stream",
     "text": [
      "어떤 계산을 하시겠습니까?: 1.plus 2.minus 3.division 4.multiply1\n"
     ]
    },
    {
     "ename": "TypeError",
     "evalue": "'tuple' object is not callable",
     "output_type": "error",
     "traceback": [
      "\u001b[1;31m---------------------------------------------------------------------------\u001b[0m",
      "\u001b[1;31mTypeError\u001b[0m                                 Traceback (most recent call last)",
      "\u001b[1;32m<ipython-input-40-714bd1e1b5ee>\u001b[0m in \u001b[0;36m<module>\u001b[1;34m()\u001b[0m\n\u001b[1;32m----> 1\u001b[1;33m \u001b[0mcalculate\u001b[0m\u001b[1;33m(\u001b[0m\u001b[1;36m2\u001b[0m\u001b[1;33m,\u001b[0m \u001b[1;36m2\u001b[0m\u001b[1;33m)\u001b[0m\u001b[1;33m\u001b[0m\u001b[0m\n\u001b[0m",
      "\u001b[1;32m<ipython-input-39-129f9fdd7108>\u001b[0m in \u001b[0;36mcalculate\u001b[1;34m(x, y)\u001b[0m\n\u001b[0;32m      2\u001b[0m     \u001b[0mtest\u001b[0m \u001b[1;33m=\u001b[0m \u001b[1;33m(\u001b[0m\u001b[1;36m1\u001b[0m\u001b[1;33m,\u001b[0m\u001b[1;36m2\u001b[0m\u001b[1;33m,\u001b[0m\u001b[1;36m3\u001b[0m\u001b[1;33m,\u001b[0m\u001b[1;36m4\u001b[0m\u001b[1;33m)\u001b[0m\u001b[1;33m\u001b[0m\u001b[0m\n\u001b[0;32m      3\u001b[0m     \u001b[0minput\u001b[0m\u001b[1;33m(\u001b[0m\u001b[1;34m\"어떤 계산을 하시겠습니까?: 1.plus 2.minus 3.division 4.multiply\"\u001b[0m\u001b[1;33m)\u001b[0m\u001b[1;33m\u001b[0m\u001b[0m\n\u001b[1;32m----> 4\u001b[1;33m     \u001b[1;32mif\u001b[0m \u001b[1;33m(\u001b[0m\u001b[0mtest\u001b[0m\u001b[1;33m(\u001b[0m\u001b[1;36m1\u001b[0m\u001b[1;33m)\u001b[0m\u001b[1;33m)\u001b[0m\u001b[1;33m:\u001b[0m\u001b[1;33m\u001b[0m\u001b[0m\n\u001b[0m\u001b[0;32m      5\u001b[0m         \u001b[0mresult\u001b[0m \u001b[1;33m=\u001b[0m \u001b[1;33m(\u001b[0m\u001b[0mx\u001b[0m \u001b[1;33m+\u001b[0m \u001b[0my\u001b[0m\u001b[1;33m)\u001b[0m\u001b[1;33m\u001b[0m\u001b[0m\n\u001b[0;32m      6\u001b[0m     \u001b[1;32melif\u001b[0m \u001b[1;33m(\u001b[0m\u001b[0mtest\u001b[0m\u001b[1;33m(\u001b[0m\u001b[1;36m2\u001b[0m\u001b[1;33m)\u001b[0m\u001b[1;33m)\u001b[0m\u001b[1;33m:\u001b[0m\u001b[1;33m\u001b[0m\u001b[0m\n",
      "\u001b[1;31mTypeError\u001b[0m: 'tuple' object is not callable"
     ]
    }
   ],
   "source": [
    "calculate(2, 2)"
   ]
  },
  {
   "cell_type": "code",
   "execution_count": 14,
   "metadata": {},
   "outputs": [
    {
     "name": "stdout",
     "output_type": "stream",
     "text": [
      "plus\n"
     ]
    }
   ],
   "source": [
    "test = {1:\"plus\", 2:\"minus\", 3:\"division\", 4:\"multiply\"}\n",
    "print(test[1])"
   ]
  },
  {
   "cell_type": "code",
   "execution_count": 41,
   "metadata": {},
   "outputs": [],
   "source": [
    "inputList = [\"11\",\"1234\",\"222\",\"555\"]"
   ]
  },
  {
   "cell_type": "code",
   "execution_count": 42,
   "metadata": {},
   "outputs": [
    {
     "name": "stdout",
     "output_type": "stream",
     "text": [
      "1245\n"
     ]
    }
   ],
   "source": [
    "i = 0\n",
    "j = 1\n",
    "a = int(inputList[i])\n",
    "b = int(inputList[j])\n",
    "print(a+b)"
   ]
  },
  {
   "cell_type": "code",
   "execution_count": 115,
   "metadata": {},
   "outputs": [
    {
     "data": {
      "text/plain": [
       "2022.0"
      ]
     },
     "execution_count": 115,
     "metadata": {},
     "output_type": "execute_result"
    }
   ],
   "source": [
    "inputList = [\"11\",\"1234\",\"222\",\"555\"]\n",
    "inputListLen = len(inputList)\n",
    "i = 0\n",
    "a = 0\n",
    "while(i < inputListLen):\n",
    "    a = a + float(inputList[i])\n",
    "    if(i == 0):\n",
    "        float(inputList[i])\n",
    "    elif(i == 1):\n",
    "        float(inputList[i])\n",
    "    elif(i > 1):\n",
    "        float(inputList[i])\n",
    "    else:\n",
    "        print(\"오류가 발생했습니다.\")\n",
    "    i=i+1\n",
    "a"
   ]
  },
  {
   "cell_type": "code",
   "execution_count": 128,
   "metadata": {},
   "outputs": [],
   "source": [
    "def strListSum(inputList):\n",
    "    inputListLen = len(inputList)\n",
    "    i = 0\n",
    "    a = 0\n",
    "    while(i < inputListLen):\n",
    "        a = a + float(inputList[i])\n",
    "        if(i == 0):\n",
    "            float(inputList[i])\n",
    "        elif(i == 1):\n",
    "            float(inputList[i])\n",
    "        elif(i > 1):\n",
    "            float(inputList[i])\n",
    "        else:\n",
    "            print(\"오류가 발생했습니다.\")\n",
    "        i=i+1\n",
    "    return a"
   ]
  },
  {
   "cell_type": "code",
   "execution_count": 130,
   "metadata": {},
   "outputs": [
    {
     "data": {
      "text/plain": [
       "2022.0"
      ]
     },
     "execution_count": 130,
     "metadata": {},
     "output_type": "execute_result"
    }
   ],
   "source": [
    "inputList = [\"11\",\"1234\",\"222\",\"555\"]\n",
    "strListSum(inputList)"
   ]
  },
  {
   "cell_type": "code",
   "execution_count": 80,
   "metadata": {},
   "outputs": [],
   "source": [
    "def listDrainage(inputValue):\n",
    "    list_test= list(range(1,100))\n",
    "    listLen = len(list_test)\n",
    "    sumList = 0\n",
    "    for i in range (1, listLen+1):\n",
    "        sumList = sumList + i\n",
    "        if(i%inputValue == 0):\n",
    "            print(i)\n",
    "    return print(i)"
   ]
  },
  {
   "cell_type": "code",
   "execution_count": 82,
   "metadata": {},
   "outputs": [
    {
     "name": "stdout",
     "output_type": "stream",
     "text": [
      "4\n",
      "8\n",
      "12\n",
      "16\n",
      "20\n",
      "24\n",
      "28\n",
      "32\n",
      "36\n",
      "40\n",
      "44\n",
      "48\n",
      "52\n",
      "56\n",
      "60\n",
      "64\n",
      "68\n",
      "72\n",
      "76\n",
      "80\n",
      "84\n",
      "88\n",
      "92\n",
      "96\n",
      "99\n"
     ]
    }
   ],
   "source": [
    "listDrainage(4)"
   ]
  }
 ],
 "metadata": {
  "kernelspec": {
   "display_name": "Python 3",
   "language": "python",
   "name": "python3"
  },
  "language_info": {
   "codemirror_mode": {
    "name": "ipython",
    "version": 3
   },
   "file_extension": ".py",
   "mimetype": "text/x-python",
   "name": "python",
   "nbconvert_exporter": "python",
   "pygments_lexer": "ipython3",
   "version": "3.6.4"
  }
 },
 "nbformat": 4,
 "nbformat_minor": 2
}
