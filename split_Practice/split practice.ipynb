{
 "cells": [
  {
   "cell_type": "markdown",
   "metadata": {},
   "source": [
    "### [-1]은 split한 것들 중 가장 뒷쪽 값을 자동 선택\n",
    "### [0]은 split한 것들 중 앞쪽 것을 선택한다.(인덱스값이다.)\n",
    "### [1] 역시 같다. 이 역시 인덱스 값으로 선택한다."
   ]
  },
  {
   "cell_type": "code",
   "execution_count": 1,
   "metadata": {},
   "outputs": [],
   "source": [
    "a = \"WQERH@GNMKLPL!OIKUJsdlk%jhal&kjhgr\""
   ]
  },
  {
   "cell_type": "code",
   "execution_count": 2,
   "metadata": {},
   "outputs": [
    {
     "name": "stdout",
     "output_type": "stream",
     "text": [
      "WQERH@GNMKLPL!OIKUJsdlk%jhal&kjhgr\n"
     ]
    }
   ],
   "source": [
    "print(a)"
   ]
  },
  {
   "cell_type": "code",
   "execution_count": 22,
   "metadata": {},
   "outputs": [
    {
     "name": "stdout",
     "output_type": "stream",
     "text": [
      "WQERH\n"
     ]
    }
   ],
   "source": [
    "a1 = a.split(\"@\")[0]\n",
    "print(a1)"
   ]
  },
  {
   "cell_type": "code",
   "execution_count": 24,
   "metadata": {},
   "outputs": [
    {
     "name": "stdout",
     "output_type": "stream",
     "text": [
      "GNMKLPL\n"
     ]
    }
   ],
   "source": [
    "a2 = a.split(\"@\")[1].split(\"!\")[0]\n",
    "print(a2)"
   ]
  },
  {
   "cell_type": "code",
   "execution_count": 26,
   "metadata": {},
   "outputs": [
    {
     "name": "stdout",
     "output_type": "stream",
     "text": [
      "OIKUJsdlk\n"
     ]
    }
   ],
   "source": [
    "a3 = a.split(\"@\")[1].split(\"!\")[1].split(\"%\")[0]\n",
    "print(a3)"
   ]
  },
  {
   "cell_type": "code",
   "execution_count": 27,
   "metadata": {},
   "outputs": [
    {
     "name": "stdout",
     "output_type": "stream",
     "text": [
      "jhal\n"
     ]
    }
   ],
   "source": [
    "a4 = a.split(\"@\")[1].split(\"!\")[1].split('%')[1].split(\"&\")[0]\n",
    "print(a4)"
   ]
  },
  {
   "cell_type": "code",
   "execution_count": 28,
   "metadata": {},
   "outputs": [
    {
     "name": "stdout",
     "output_type": "stream",
     "text": [
      "kjhgr\n"
     ]
    }
   ],
   "source": [
    "a5= a.split(\"@\")[1].split(\"!\")[1].split(\"%\")[1].split(\"&\")[1]\n",
    "print(a5)"
   ]
  },
  {
   "cell_type": "code",
   "execution_count": null,
   "metadata": {},
   "outputs": [],
   "source": []
  }
 ],
 "metadata": {
  "kernelspec": {
   "display_name": "Python 3",
   "language": "python",
   "name": "python3"
  },
  "language_info": {
   "codemirror_mode": {
    "name": "ipython",
    "version": 3
   },
   "file_extension": ".py",
   "mimetype": "text/x-python",
   "name": "python",
   "nbconvert_exporter": "python",
   "pygments_lexer": "ipython3",
   "version": "3.6.4"
  }
 },
 "nbformat": 4,
 "nbformat_minor": 2
}
