{
 "cells": [
  {
   "cell_type": "code",
   "execution_count": 1,
   "metadata": {},
   "outputs": [],
   "source": [
    "# inputYearWeek = 201720\n",
    "# gapWeek = 10"
   ]
  },
  {
   "cell_type": "markdown",
   "metadata": {},
   "source": [
    "# 라이브러리 선언"
   ]
  },
  {
   "cell_type": "code",
   "execution_count": 2,
   "metadata": {},
   "outputs": [],
   "source": [
    "# from isoweek import Week"
   ]
  },
  {
   "cell_type": "markdown",
   "metadata": {},
   "source": [
    "# 연주차 정보 변환"
   ]
  },
  {
   "cell_type": "code",
   "execution_count": 3,
   "metadata": {},
   "outputs": [],
   "source": [
    "# currYearWeek = str(inputYearWeek)\n",
    "\n",
    "# gapWeek = int(gapweek)"
   ]
  },
  {
   "cell_type": "markdown",
   "metadata": {},
   "source": [
    "# 연도 및 주차 정보추출"
   ]
  },
  {
   "cell_type": "code",
   "execution_count": 4,
   "metadata": {},
   "outputs": [],
   "source": [
    "# currYear = int(currYearWeek[0:4])\n",
    "# currYear"
   ]
  },
  {
   "cell_type": "code",
   "execution_count": 5,
   "metadata": {},
   "outputs": [],
   "source": [
    "# currWeek = int(currYearWeek[4:])\n",
    "# currWeek"
   ]
  },
  {
   "cell_type": "markdown",
   "metadata": {},
   "source": [
    "# 현재연도의 lastweek 추출"
   ]
  },
  {
   "cell_type": "code",
   "execution_count": 6,
   "metadata": {},
   "outputs": [],
   "source": [
    "# Week.last_week_of_year(currYear).week"
   ]
  },
  {
   "cell_type": "code",
   "execution_count": 7,
   "metadata": {},
   "outputs": [],
   "source": [
    "# validWeek = (currWeek - gapWeek)\n",
    "# validWeek"
   ]
  },
  {
   "cell_type": "markdown",
   "metadata": {},
   "source": [
    "# 코드 짜보기"
   ]
  },
  {
   "cell_type": "code",
   "execution_count": 68,
   "metadata": {},
   "outputs": [],
   "source": [
    "from isoweek import Week"
   ]
  },
  {
   "cell_type": "code",
   "execution_count": 109,
   "metadata": {},
   "outputs": [],
   "source": [
    "def quiz2(inpYW, gapW):\n",
    "    inpYW=str(inpYW)#주어진 값을 스트링 변환\n",
    "    inpY=str(inpYW[0:4])#스트링으로 변환 후 연도와 주차로 구별, 추출.\n",
    "    inpW=str(inpYW[4: ])\n",
    "    \n",
    "    if (int(inpW) > int(gapW)):#inpW가 gapW보다 클 경우 그냥 뺀다.\n",
    "        inpW = int(inpW) - int(gapW)\n",
    "    elif (int(inpW) < int(gapW)): \n",
    "        while(int(inpW) < int(gapW)):#inpW가 gapW보다 작을 경우 구분한 연도를 1 빼고 이전 연도의 주차를 구분한 주차에\n",
    "            inpY = int(inpY) - 1     #더한다. 이를 순환문으로 돌려 inpW가 gapW보다 커질 때까지 반복한다.\n",
    "            inpW = int(inpW) + Week.last_week_of_year(inpY).week\n",
    "            if(int(inpW) == int(gapW)):#위 while문에서 inpW가 gapW와 같을 경우 처리(208-208)\n",
    "                inpY = int(inpY)-1\n",
    "                inpW = int(inpW) + Week.last_week_of_year(inpY).week\n",
    "                if(int(inpW) > 52):#53주차 삭제 코드. elif도 사용할 수 있을 것 같지만 위 if문의 조건 아래에 있어야 제대로 작동.\n",
    "                    inpW = int(inpW)-1\n",
    "        inpW = int(inpW)-int(gapW)\n",
    "        if(inpW < 10):#inpW가 10보다 작을 경우 0을 붙여줌.(20194 -> 201904)\n",
    "            inpW = \"0\" + str(inpW)\n",
    "    elif(int(inpW) - int(gapW) == 0):#위 while문이 작동하려면 inpW가 gapW보다 작아야 함. 그렇지 않을 경우를 커버.\n",
    "        inpY = int(inpY) - 1\n",
    "        inpW = Week.last_week_of_year(inpY).week\n",
    "    else:\n",
    "        print(\"error\")\n",
    "    Result = str(inpY)+str(inpW)    \n",
    "    return Result"
   ]
  },
  {
   "cell_type": "code",
   "execution_count": 123,
   "metadata": {},
   "outputs": [
    {
     "data": {
      "text/plain": [
       "'201552'"
      ]
     },
     "execution_count": 123,
     "metadata": {},
     "output_type": "execute_result"
    }
   ],
   "source": [
    "quiz2('201952',208)"
   ]
  },
  {
   "cell_type": "code",
   "execution_count": 124,
   "metadata": {},
   "outputs": [
    {
     "data": {
      "text/plain": [
       "'201852'"
      ]
     },
     "execution_count": 124,
     "metadata": {},
     "output_type": "execute_result"
    }
   ],
   "source": [
    "quiz2('201952',52)"
   ]
  },
  {
   "cell_type": "code",
   "execution_count": 118,
   "metadata": {},
   "outputs": [
    {
     "data": {
      "text/plain": [
       "2019"
      ]
     },
     "execution_count": 118,
     "metadata": {},
     "output_type": "execute_result"
    }
   ],
   "source": [
    "a = \"201904\"\n",
    "b = int(a)\n",
    "b = b/100\n",
    "int(b)"
   ]
  },
  {
   "cell_type": "code",
   "execution_count": 127,
   "metadata": {},
   "outputs": [],
   "source": [
    "def quiz3(inpYW, gapW):\n",
    "    inpYW= int(inpYW)#주어진 값을 스트링 변환\n",
    "    inpY = int(inpYW/100)\n",
    "    inpW = int(inpYW)%100\n",
    "    gapW = int(gapW)\n",
    "    if (inpW > gapW):#inpW가 gapW보다 클 경우 그냥 뺀다.\n",
    "        inpW = inpW - gapW\n",
    "    elif (inpW < gapW): \n",
    "        while(inpW < gapW):#inpW가 gapW보다 작을 경우 구분한 연도를 1 빼고 이전 연도의 주차를 구분한 주차에\n",
    "            inpY = inpY - 1     #더한다. 이를 순환문으로 돌려 inpW가 gapW보다 커질 때까지 반복한다.\n",
    "            inpW = inpW + Week.last_week_of_year(inpY).week\n",
    "            if(inpW == gapW):#위 while문에서 inpW가 gapW와 같을 경우 처리(208-208)\n",
    "                inpY = inpY-1\n",
    "                inpW = inpW + Week.last_week_of_year(inpY).week\n",
    "                if(inpW > 52):#53주차 삭제 코드. elif도 사용할 수 있을 것 같지만 위 if문의 조건 아래에 있어야 제대로 작동.\n",
    "                    inpW = inpW-1\n",
    "        inpW = inpW-gapW\n",
    "        if(inpW < 10):#inpW가 10보다 작을 경우 0을 붙여줌.(20194 -> 201904)\n",
    "            inpW = \"0\" + str(inpW)\n",
    "    elif(inpW - gapW == 0):#위 while문이 작동하려면 inpW가 gapW보다 작아야 함. 그렇지 않을 경우를 커버.\n",
    "        inpY = inpY-1\n",
    "        inpW = Week.last_week_of_year(inpY).week\n",
    "    else:\n",
    "        print(\"error\")\n",
    "    Result = str(inpY)+str(inpW)    \n",
    "    return Result"
   ]
  },
  {
   "cell_type": "code",
   "execution_count": 128,
   "metadata": {},
   "outputs": [
    {
     "data": {
      "text/plain": [
       "2019"
      ]
     },
     "execution_count": 128,
     "metadata": {},
     "output_type": "execute_result"
    }
   ],
   "source": [
    "inpYW = 201904\n",
    "inpY = int(inpYW/100)\n",
    "inpY"
   ]
  },
  {
   "cell_type": "code",
   "execution_count": 129,
   "metadata": {},
   "outputs": [
    {
     "data": {
      "text/plain": [
       "'201552'"
      ]
     },
     "execution_count": 129,
     "metadata": {},
     "output_type": "execute_result"
    }
   ],
   "source": [
    "quiz3('201952',208)"
   ]
  },
  {
   "cell_type": "code",
   "execution_count": 130,
   "metadata": {},
   "outputs": [
    {
     "data": {
      "text/plain": [
       "'201852'"
      ]
     },
     "execution_count": 130,
     "metadata": {},
     "output_type": "execute_result"
    }
   ],
   "source": [
    "quiz3('201952',52)"
   ]
  },
  {
   "cell_type": "code",
   "execution_count": null,
   "metadata": {},
   "outputs": [],
   "source": []
  }
 ],
 "metadata": {
  "kernelspec": {
   "display_name": "Python 3",
   "language": "python",
   "name": "python3"
  },
  "language_info": {
   "codemirror_mode": {
    "name": "ipython",
    "version": 3
   },
   "file_extension": ".py",
   "mimetype": "text/x-python",
   "name": "python",
   "nbconvert_exporter": "python",
   "pygments_lexer": "ipython3",
   "version": "3.6.4"
  }
 },
 "nbformat": 4,
 "nbformat_minor": 2
}
