{
 "cells": [
  {
   "cell_type": "markdown",
   "metadata": {},
   "source": [
    "# 라이브러리 선언"
   ]
  },
  {
   "cell_type": "code",
   "execution_count": 2,
   "metadata": {},
   "outputs": [],
   "source": [
    "import pandas as pd\n",
    "import requests\n",
    "from pandas.io.json import json_normalize"
   ]
  },
  {
   "cell_type": "markdown",
   "metadata": {},
   "source": [
    "## API URL 정보를 받아 변수 저장\n",
    "### response 확인.(200= 정상, 400, etc...=비정상"
   ]
  },
  {
   "cell_type": "code",
   "execution_count": 3,
   "metadata": {},
   "outputs": [
    {
     "data": {
      "text/plain": [
       "<Response [200]>"
      ]
     },
     "execution_count": 3,
     "metadata": {},
     "output_type": "execute_result"
    }
   ],
   "source": [
    "url = \"http://kosis.kr/openapi/statisticsData.do?method=getList&apiKey=NGI0OWJlZWYwYmExYWE5YjI4NDNiYjJmN2U1N2VhMTA=&format=json&jsonVD=Y&userStatsId=yukari6666/101/DT_1G1B002/2/1/20190417152028&prdSe=M&newEstPrdCnt=1\"\n",
    "response = requests.get(url)\n",
    "response"
   ]
  },
  {
   "cell_type": "markdown",
   "metadata": {},
   "source": [
    "### 우리가 원하는 형태는 json이 아니기 때문에 normalize 해야 한다.\n",
    "### 그리고 normalize한 자료를 데이타프레임에 넣는다."
   ]
  },
  {
   "cell_type": "code",
   "execution_count": 10,
   "metadata": {},
   "outputs": [
    {
     "data": {
      "text/html": [
       "<div>\n",
       "<style scoped>\n",
       "    .dataframe tbody tr th:only-of-type {\n",
       "        vertical-align: middle;\n",
       "    }\n",
       "\n",
       "    .dataframe tbody tr th {\n",
       "        vertical-align: top;\n",
       "    }\n",
       "\n",
       "    .dataframe thead th {\n",
       "        text-align: right;\n",
       "    }\n",
       "</style>\n",
       "<table border=\"1\" class=\"dataframe\">\n",
       "  <thead>\n",
       "    <tr style=\"text-align: right;\">\n",
       "      <th></th>\n",
       "      <th>C1</th>\n",
       "      <th>C1_NM</th>\n",
       "      <th>C1_NM_ENG</th>\n",
       "      <th>C1_OBJ_NM</th>\n",
       "      <th>C1_OBJ_NM_ENG</th>\n",
       "      <th>C2</th>\n",
       "      <th>C2_NM</th>\n",
       "      <th>C2_NM_ENG</th>\n",
       "      <th>C2_OBJ_NM</th>\n",
       "      <th>C2_OBJ_NM_ENG</th>\n",
       "      <th>...</th>\n",
       "      <th>ITM_ID</th>\n",
       "      <th>ITM_NM</th>\n",
       "      <th>ITM_NM_ENG</th>\n",
       "      <th>ORG_ID</th>\n",
       "      <th>PRD_DE</th>\n",
       "      <th>PRD_SE</th>\n",
       "      <th>TBL_ID</th>\n",
       "      <th>TBL_NM</th>\n",
       "      <th>UNIT_NM</th>\n",
       "      <th>UNIT_NM_ENG</th>\n",
       "    </tr>\n",
       "  </thead>\n",
       "  <tbody>\n",
       "    <tr>\n",
       "      <th>0</th>\n",
       "      <td>0</td>\n",
       "      <td>수주총액</td>\n",
       "      <td>Total amount of orders received</td>\n",
       "      <td>발주자별</td>\n",
       "      <td>By the kind of orderer</td>\n",
       "      <td>0</td>\n",
       "      <td>계</td>\n",
       "      <td>Total</td>\n",
       "      <td>공종별</td>\n",
       "      <td>By the kind of construction works</td>\n",
       "      <td>...</td>\n",
       "      <td>T10</td>\n",
       "      <td>수주액</td>\n",
       "      <td>Value of order received</td>\n",
       "      <td>101</td>\n",
       "      <td>2018</td>\n",
       "      <td>A</td>\n",
       "      <td>DT_1G1B002</td>\n",
       "      <td>발주자/공종별 건설수주액(경상)</td>\n",
       "      <td>백만원</td>\n",
       "      <td>Million Won</td>\n",
       "    </tr>\n",
       "    <tr>\n",
       "      <th>1</th>\n",
       "      <td>0</td>\n",
       "      <td>수주총액</td>\n",
       "      <td>Total amount of orders received</td>\n",
       "      <td>발주자별</td>\n",
       "      <td>By the kind of orderer</td>\n",
       "      <td>1</td>\n",
       "      <td>건축</td>\n",
       "      <td>Building</td>\n",
       "      <td>공종별</td>\n",
       "      <td>By the kind of construction works</td>\n",
       "      <td>...</td>\n",
       "      <td>T10</td>\n",
       "      <td>수주액</td>\n",
       "      <td>Value of order received</td>\n",
       "      <td>101</td>\n",
       "      <td>2018</td>\n",
       "      <td>A</td>\n",
       "      <td>DT_1G1B002</td>\n",
       "      <td>발주자/공종별 건설수주액(경상)</td>\n",
       "      <td>백만원</td>\n",
       "      <td>Million Won</td>\n",
       "    </tr>\n",
       "    <tr>\n",
       "      <th>2</th>\n",
       "      <td>0</td>\n",
       "      <td>수주총액</td>\n",
       "      <td>Total amount of orders received</td>\n",
       "      <td>발주자별</td>\n",
       "      <td>By the kind of orderer</td>\n",
       "      <td>2</td>\n",
       "      <td>토목</td>\n",
       "      <td>Civil engineering</td>\n",
       "      <td>공종별</td>\n",
       "      <td>By the kind of construction works</td>\n",
       "      <td>...</td>\n",
       "      <td>T10</td>\n",
       "      <td>수주액</td>\n",
       "      <td>Value of order received</td>\n",
       "      <td>101</td>\n",
       "      <td>2018</td>\n",
       "      <td>A</td>\n",
       "      <td>DT_1G1B002</td>\n",
       "      <td>발주자/공종별 건설수주액(경상)</td>\n",
       "      <td>백만원</td>\n",
       "      <td>Million Won</td>\n",
       "    </tr>\n",
       "    <tr>\n",
       "      <th>3</th>\n",
       "      <td>1</td>\n",
       "      <td>공공부문</td>\n",
       "      <td>Public sector</td>\n",
       "      <td>발주자별</td>\n",
       "      <td>By the kind of orderer</td>\n",
       "      <td>0</td>\n",
       "      <td>계</td>\n",
       "      <td>Total</td>\n",
       "      <td>공종별</td>\n",
       "      <td>By the kind of construction works</td>\n",
       "      <td>...</td>\n",
       "      <td>T10</td>\n",
       "      <td>수주액</td>\n",
       "      <td>Value of order received</td>\n",
       "      <td>101</td>\n",
       "      <td>2018</td>\n",
       "      <td>A</td>\n",
       "      <td>DT_1G1B002</td>\n",
       "      <td>발주자/공종별 건설수주액(경상)</td>\n",
       "      <td>백만원</td>\n",
       "      <td>Million Won</td>\n",
       "    </tr>\n",
       "    <tr>\n",
       "      <th>4</th>\n",
       "      <td>1</td>\n",
       "      <td>공공부문</td>\n",
       "      <td>Public sector</td>\n",
       "      <td>발주자별</td>\n",
       "      <td>By the kind of orderer</td>\n",
       "      <td>1</td>\n",
       "      <td>건축</td>\n",
       "      <td>Building</td>\n",
       "      <td>공종별</td>\n",
       "      <td>By the kind of construction works</td>\n",
       "      <td>...</td>\n",
       "      <td>T10</td>\n",
       "      <td>수주액</td>\n",
       "      <td>Value of order received</td>\n",
       "      <td>101</td>\n",
       "      <td>2018</td>\n",
       "      <td>A</td>\n",
       "      <td>DT_1G1B002</td>\n",
       "      <td>발주자/공종별 건설수주액(경상)</td>\n",
       "      <td>백만원</td>\n",
       "      <td>Million Won</td>\n",
       "    </tr>\n",
       "  </tbody>\n",
       "</table>\n",
       "<p>5 rows × 21 columns</p>\n",
       "</div>"
      ],
      "text/plain": [
       "  C1 C1_NM                        C1_NM_ENG C1_OBJ_NM           C1_OBJ_NM_ENG  \\\n",
       "0  0  수주총액  Total amount of orders received      발주자별  By the kind of orderer   \n",
       "1  0  수주총액  Total amount of orders received      발주자별  By the kind of orderer   \n",
       "2  0  수주총액  Total amount of orders received      발주자별  By the kind of orderer   \n",
       "3  1  공공부문                    Public sector      발주자별  By the kind of orderer   \n",
       "4  1  공공부문                    Public sector      발주자별  By the kind of orderer   \n",
       "\n",
       "  C2 C2_NM          C2_NM_ENG C2_OBJ_NM                      C2_OBJ_NM_ENG  \\\n",
       "0  0     계              Total       공종별  By the kind of construction works   \n",
       "1  1    건축           Building       공종별  By the kind of construction works   \n",
       "2  2    토목  Civil engineering       공종별  By the kind of construction works   \n",
       "3  0     계              Total       공종별  By the kind of construction works   \n",
       "4  1    건축           Building       공종별  By the kind of construction works   \n",
       "\n",
       "      ...      ITM_ID ITM_NM               ITM_NM_ENG ORG_ID PRD_DE PRD_SE  \\\n",
       "0     ...         T10    수주액  Value of order received    101   2018      A   \n",
       "1     ...         T10    수주액  Value of order received    101   2018      A   \n",
       "2     ...         T10    수주액  Value of order received    101   2018      A   \n",
       "3     ...         T10    수주액  Value of order received    101   2018      A   \n",
       "4     ...         T10    수주액  Value of order received    101   2018      A   \n",
       "\n",
       "       TBL_ID             TBL_NM UNIT_NM  UNIT_NM_ENG  \n",
       "0  DT_1G1B002  발주자/공종별 건설수주액(경상)     백만원  Million Won  \n",
       "1  DT_1G1B002  발주자/공종별 건설수주액(경상)     백만원  Million Won  \n",
       "2  DT_1G1B002  발주자/공종별 건설수주액(경상)     백만원  Million Won  \n",
       "3  DT_1G1B002  발주자/공종별 건설수주액(경상)     백만원  Million Won  \n",
       "4  DT_1G1B002  발주자/공종별 건설수주액(경상)     백만원  Million Won  \n",
       "\n",
       "[5 rows x 21 columns]"
      ]
     },
     "execution_count": 10,
     "metadata": {},
     "output_type": "execute_result"
    }
   ],
   "source": [
    "json = response.json()\n",
    "\n",
    "df = json_normalize(json)\n",
    "df.head()"
   ]
  },
  {
   "cell_type": "markdown",
   "metadata": {},
   "source": [
    "#### 데이터프레임을 csv파일로 저장한다"
   ]
  },
  {
   "cell_type": "code",
   "execution_count": 7,
   "metadata": {},
   "outputs": [],
   "source": [
    "#그냥 csv로 날려버리면 안의 내용이 깨진다. 한글이기 때문이다.\n",
    "#그렇기 때문에 encoding을 하는데 우리의 마법사 ms949로 encoding을 해주면\n",
    "#짜잔! 깨지지 않은 csv파일이 만들어진다!\n",
    "df.to_csv('./APIData1.csv', encoding = \"ms949\")"
   ]
  },
  {
   "cell_type": "code",
   "execution_count": null,
   "metadata": {},
   "outputs": [],
   "source": []
  }
 ],
 "metadata": {
  "kernelspec": {
   "display_name": "Python 3",
   "language": "python",
   "name": "python3"
  },
  "language_info": {
   "codemirror_mode": {
    "name": "ipython",
    "version": 3
   },
   "file_extension": ".py",
   "mimetype": "text/x-python",
   "name": "python",
   "nbconvert_exporter": "python",
   "pygments_lexer": "ipython3",
   "version": "3.6.4"
  }
 },
 "nbformat": 4,
 "nbformat_minor": 2
}
