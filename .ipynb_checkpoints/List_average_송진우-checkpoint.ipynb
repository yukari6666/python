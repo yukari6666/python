{
 "cells": [
  {
   "cell_type": "markdown",
   "metadata": {},
   "source": [
    "# list average"
   ]
  },
  {
   "cell_type": "code",
   "execution_count": 5,
   "metadata": {},
   "outputs": [],
   "source": [
    "# 리스트 = list\n",
    "def listFunction(list):\n",
    "    list.sort() #step1\n",
    "    del list[0] #step2\n",
    "    del list[len(list)-1] #step3\n",
    "    sum(list)/len(list) #step4\n",
    "    return sum(list)/len(list) #result"
   ]
  },
  {
   "cell_type": "code",
   "execution_count": 6,
   "metadata": {},
   "outputs": [],
   "source": [
    "def listFunction2(list):\n",
    "    list.remove(list.index(min(list))) #step1\n",
    "    list.remove(list.index(max(list))) #step2\n",
    "    sum(list)/len(list) #step3\n",
    "    return sum(list)/len(list) #result"
   ]
  },
  {
   "cell_type": "code",
   "execution_count": 15,
   "metadata": {},
   "outputs": [],
   "source": [
    "def listFunction3(list):\n",
    "    list.pop(list.index(min(list))) #step1\n",
    "    list.pop(list.index(max(list))) #step2\n",
    "    sum(list)/len(list) #step3\n",
    "    return sum(list)/len(list) #result"
   ]
  },
  {
   "cell_type": "code",
   "execution_count": 26,
   "metadata": {},
   "outputs": [
    {
     "data": {
      "text/plain": [
       "5.0"
      ]
     },
     "execution_count": 26,
     "metadata": {},
     "output_type": "execute_result"
    }
   ],
   "source": [
    "testList = [0, 1, 2, 3, 4, 5, 6, 7, 8, 9, 10]\n",
    "listFunction(testList)"
   ]
  },
  {
   "cell_type": "code",
   "execution_count": 29,
   "metadata": {},
   "outputs": [
    {
     "data": {
      "text/plain": [
       "5.111111111111111"
      ]
     },
     "execution_count": 29,
     "metadata": {},
     "output_type": "execute_result"
    }
   ],
   "source": [
    "testList = [0, 1, 2, 3, 4, 5, 6, 7, 8, 9, 10]\n",
    "listFunction2(testList)\n",
    "# 검토 필요"
   ]
  },
  {
   "cell_type": "code",
   "execution_count": 28,
   "metadata": {},
   "outputs": [
    {
     "data": {
      "text/plain": [
       "5.0"
      ]
     },
     "execution_count": 28,
     "metadata": {},
     "output_type": "execute_result"
    }
   ],
   "source": [
    "testList = [0, 1, 2, 3, 4, 5, 6, 7, 8, 9, 10]\n",
    "listFunction3(testList)\n",
    "\n"
   ]
  },
  {
   "cell_type": "code",
   "execution_count": 9,
   "metadata": {},
   "outputs": [],
   "source": [
    "def colculate(x,y):\n",
    "\n",
    "    test = input(\"어떤 계산을 하시겠습니까?: plus, minus, division, multiply\")\n",
    "    if (test == \"plus\"):\n",
    "        result = (x + y)\n",
    "    elif (test == \"minus\"):\n",
    "        result = (x - y)\n",
    "    elif (test == \"division\"):\n",
    "        result = (x / y)\n",
    "    elif (test == \"multiply\"):\n",
    "        result = (x * y)\n",
    "    else:\n",
    "        result = (\"제대로 입력하십시오.\")\n",
    "\n",
    "    return result"
   ]
  },
  {
   "cell_type": "code",
   "execution_count": 10,
   "metadata": {},
   "outputs": [
    {
     "name": "stdout",
     "output_type": "stream",
     "text": [
      "어떤 계산을 하시겠습니까?: plus, minus, division, multiplyplus\n"
     ]
    },
    {
     "data": {
      "text/plain": [
       "4"
      ]
     },
     "execution_count": 10,
     "metadata": {},
     "output_type": "execute_result"
    }
   ],
   "source": [
    "colculate(2, 2)"
   ]
  }
 ],
 "metadata": {
  "kernelspec": {
   "display_name": "Python 3",
   "language": "python",
   "name": "python3"
  },
  "language_info": {
   "codemirror_mode": {
    "name": "ipython",
    "version": 3
   },
   "file_extension": ".py",
   "mimetype": "text/x-python",
   "name": "python",
   "nbconvert_exporter": "python",
   "pygments_lexer": "ipython3",
   "version": "3.6.4"
  }
 },
 "nbformat": 4,
 "nbformat_minor": 2
}
