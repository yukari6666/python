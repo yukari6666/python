{
 "cells": [
  {
   "cell_type": "code",
   "execution_count": 26,
   "metadata": {},
   "outputs": [
    {
     "data": {
      "text/plain": [
       "'C:\\\\Users\\\\SMART-20\\\\python_fintech'"
      ]
     },
     "execution_count": 26,
     "metadata": {},
     "output_type": "execute_result"
    }
   ],
   "source": [
    "pwd"
   ]
  },
  {
   "cell_type": "code",
   "execution_count": 27,
   "metadata": {},
   "outputs": [],
   "source": [
    "import numpy as np"
   ]
  },
  {
   "cell_type": "code",
   "execution_count": 28,
   "metadata": {},
   "outputs": [
    {
     "data": {
      "text/plain": [
       "array([  1.        ,   6.21052632,  11.42105263,  16.63157895,\n",
       "        21.84210526,  27.05263158,  32.26315789,  37.47368421,\n",
       "        42.68421053,  47.89473684,  53.10526316,  58.31578947,\n",
       "        63.52631579,  68.73684211,  73.94736842,  79.15789474,\n",
       "        84.36842105,  89.57894737,  94.78947368, 100.        ])"
      ]
     },
     "execution_count": 28,
     "metadata": {},
     "output_type": "execute_result"
    }
   ],
   "source": [
    "np.linspace(1,100,num=20)"
   ]
  },
  {
   "cell_type": "code",
   "execution_count": 29,
   "metadata": {},
   "outputs": [
    {
     "data": {
      "text/plain": [
       "array([0.34011133, 0.14036521, 0.74753427, 0.45331525, 0.48348105,\n",
       "       0.30321295, 0.90950253, 0.98406631, 0.13426472, 0.91216882])"
      ]
     },
     "execution_count": 29,
     "metadata": {},
     "output_type": "execute_result"
    }
   ],
   "source": [
    "np.random.random(10)"
   ]
  },
  {
   "cell_type": "code",
   "execution_count": 30,
   "metadata": {},
   "outputs": [],
   "source": [
    "import pandas as pd"
   ]
  },
  {
   "cell_type": "code",
   "execution_count": 31,
   "metadata": {},
   "outputs": [
    {
     "data": {
      "text/html": [
       "<div>\n",
       "<style scoped>\n",
       "    .dataframe tbody tr th:only-of-type {\n",
       "        vertical-align: middle;\n",
       "    }\n",
       "\n",
       "    .dataframe tbody tr th {\n",
       "        vertical-align: top;\n",
       "    }\n",
       "\n",
       "    .dataframe thead th {\n",
       "        text-align: right;\n",
       "    }\n",
       "</style>\n",
       "<table border=\"1\" class=\"dataframe\">\n",
       "  <thead>\n",
       "    <tr style=\"text-align: right;\">\n",
       "      <th></th>\n",
       "      <th>REGIONID</th>\n",
       "      <th>PRODUCTGROUP</th>\n",
       "      <th>YEARWEEK</th>\n",
       "      <th>VOLUME</th>\n",
       "    </tr>\n",
       "  </thead>\n",
       "  <tbody>\n",
       "    <tr>\n",
       "      <th>0</th>\n",
       "      <td>A01</td>\n",
       "      <td>ST0002</td>\n",
       "      <td>201512</td>\n",
       "      <td>151750</td>\n",
       "    </tr>\n",
       "    <tr>\n",
       "      <th>1</th>\n",
       "      <td>A01</td>\n",
       "      <td>ST0001</td>\n",
       "      <td>201520</td>\n",
       "      <td>645626</td>\n",
       "    </tr>\n",
       "    <tr>\n",
       "      <th>2</th>\n",
       "      <td>A01</td>\n",
       "      <td>ST0002</td>\n",
       "      <td>201520</td>\n",
       "      <td>125863</td>\n",
       "    </tr>\n",
       "    <tr>\n",
       "      <th>3</th>\n",
       "      <td>A01</td>\n",
       "      <td>ST0001</td>\n",
       "      <td>201515</td>\n",
       "      <td>810144</td>\n",
       "    </tr>\n",
       "    <tr>\n",
       "      <th>4</th>\n",
       "      <td>A01</td>\n",
       "      <td>ST0002</td>\n",
       "      <td>201515</td>\n",
       "      <td>128999</td>\n",
       "    </tr>\n",
       "    <tr>\n",
       "      <th>5</th>\n",
       "      <td>A01</td>\n",
       "      <td>ST0001</td>\n",
       "      <td>201518</td>\n",
       "      <td>671464</td>\n",
       "    </tr>\n",
       "    <tr>\n",
       "      <th>6</th>\n",
       "      <td>A01</td>\n",
       "      <td>ST0002</td>\n",
       "      <td>201518</td>\n",
       "      <td>134467</td>\n",
       "    </tr>\n",
       "    <tr>\n",
       "      <th>7</th>\n",
       "      <td>A01</td>\n",
       "      <td>ST0001</td>\n",
       "      <td>201513</td>\n",
       "      <td>470040</td>\n",
       "    </tr>\n",
       "    <tr>\n",
       "      <th>8</th>\n",
       "      <td>A01</td>\n",
       "      <td>ST0002</td>\n",
       "      <td>201513</td>\n",
       "      <td>140297</td>\n",
       "    </tr>\n",
       "    <tr>\n",
       "      <th>9</th>\n",
       "      <td>A01</td>\n",
       "      <td>ST0001</td>\n",
       "      <td>201511</td>\n",
       "      <td>524787</td>\n",
       "    </tr>\n",
       "    <tr>\n",
       "      <th>10</th>\n",
       "      <td>A01</td>\n",
       "      <td>ST0002</td>\n",
       "      <td>201511</td>\n",
       "      <td>145509</td>\n",
       "    </tr>\n",
       "    <tr>\n",
       "      <th>11</th>\n",
       "      <td>A01</td>\n",
       "      <td>ST0001</td>\n",
       "      <td>201516</td>\n",
       "      <td>764927</td>\n",
       "    </tr>\n",
       "    <tr>\n",
       "      <th>12</th>\n",
       "      <td>A01</td>\n",
       "      <td>ST0002</td>\n",
       "      <td>201516</td>\n",
       "      <td>140313</td>\n",
       "    </tr>\n",
       "    <tr>\n",
       "      <th>13</th>\n",
       "      <td>A01</td>\n",
       "      <td>ST0001</td>\n",
       "      <td>201519</td>\n",
       "      <td>682757</td>\n",
       "    </tr>\n",
       "    <tr>\n",
       "      <th>14</th>\n",
       "      <td>A01</td>\n",
       "      <td>ST0002</td>\n",
       "      <td>201519</td>\n",
       "      <td>128668</td>\n",
       "    </tr>\n",
       "    <tr>\n",
       "      <th>15</th>\n",
       "      <td>A01</td>\n",
       "      <td>ST0001</td>\n",
       "      <td>201514</td>\n",
       "      <td>428195</td>\n",
       "    </tr>\n",
       "    <tr>\n",
       "      <th>16</th>\n",
       "      <td>A01</td>\n",
       "      <td>ST0002</td>\n",
       "      <td>201514</td>\n",
       "      <td>137488</td>\n",
       "    </tr>\n",
       "    <tr>\n",
       "      <th>17</th>\n",
       "      <td>A01</td>\n",
       "      <td>ST0001</td>\n",
       "      <td>201512</td>\n",
       "      <td>486509</td>\n",
       "    </tr>\n",
       "    <tr>\n",
       "      <th>18</th>\n",
       "      <td>A01</td>\n",
       "      <td>ST0001</td>\n",
       "      <td>201517</td>\n",
       "      <td>697502</td>\n",
       "    </tr>\n",
       "    <tr>\n",
       "      <th>19</th>\n",
       "      <td>A01</td>\n",
       "      <td>ST0002</td>\n",
       "      <td>201517</td>\n",
       "      <td>127163</td>\n",
       "    </tr>\n",
       "    <tr>\n",
       "      <th>20</th>\n",
       "      <td>A01</td>\n",
       "      <td>ST0001</td>\n",
       "      <td>201507</td>\n",
       "      <td>620392</td>\n",
       "    </tr>\n",
       "    <tr>\n",
       "      <th>21</th>\n",
       "      <td>A01</td>\n",
       "      <td>ST0002</td>\n",
       "      <td>201507</td>\n",
       "      <td>146476</td>\n",
       "    </tr>\n",
       "    <tr>\n",
       "      <th>22</th>\n",
       "      <td>A01</td>\n",
       "      <td>ST0001</td>\n",
       "      <td>201510</td>\n",
       "      <td>511679</td>\n",
       "    </tr>\n",
       "    <tr>\n",
       "      <th>23</th>\n",
       "      <td>A01</td>\n",
       "      <td>ST0002</td>\n",
       "      <td>201510</td>\n",
       "      <td>153152</td>\n",
       "    </tr>\n",
       "    <tr>\n",
       "      <th>24</th>\n",
       "      <td>A01</td>\n",
       "      <td>ST0001</td>\n",
       "      <td>201502</td>\n",
       "      <td>438251</td>\n",
       "    </tr>\n",
       "    <tr>\n",
       "      <th>25</th>\n",
       "      <td>A01</td>\n",
       "      <td>ST0002</td>\n",
       "      <td>201502</td>\n",
       "      <td>123875</td>\n",
       "    </tr>\n",
       "    <tr>\n",
       "      <th>26</th>\n",
       "      <td>A01</td>\n",
       "      <td>ST0001</td>\n",
       "      <td>201505</td>\n",
       "      <td>482381</td>\n",
       "    </tr>\n",
       "    <tr>\n",
       "      <th>27</th>\n",
       "      <td>A01</td>\n",
       "      <td>ST0002</td>\n",
       "      <td>201505</td>\n",
       "      <td>180516</td>\n",
       "    </tr>\n",
       "    <tr>\n",
       "      <th>28</th>\n",
       "      <td>A01</td>\n",
       "      <td>ST0001</td>\n",
       "      <td>201508</td>\n",
       "      <td>571781</td>\n",
       "    </tr>\n",
       "    <tr>\n",
       "      <th>29</th>\n",
       "      <td>A01</td>\n",
       "      <td>ST0002</td>\n",
       "      <td>201508</td>\n",
       "      <td>156772</td>\n",
       "    </tr>\n",
       "    <tr>\n",
       "      <th>...</th>\n",
       "      <td>...</td>\n",
       "      <td>...</td>\n",
       "      <td>...</td>\n",
       "      <td>...</td>\n",
       "    </tr>\n",
       "    <tr>\n",
       "      <th>180</th>\n",
       "      <td>A01</td>\n",
       "      <td>ST0001</td>\n",
       "      <td>201635</td>\n",
       "      <td>732598</td>\n",
       "    </tr>\n",
       "    <tr>\n",
       "      <th>181</th>\n",
       "      <td>A01</td>\n",
       "      <td>ST0002</td>\n",
       "      <td>201635</td>\n",
       "      <td>229962</td>\n",
       "    </tr>\n",
       "    <tr>\n",
       "      <th>182</th>\n",
       "      <td>A01</td>\n",
       "      <td>ST0001</td>\n",
       "      <td>201633</td>\n",
       "      <td>748038</td>\n",
       "    </tr>\n",
       "    <tr>\n",
       "      <th>183</th>\n",
       "      <td>A01</td>\n",
       "      <td>ST0002</td>\n",
       "      <td>201633</td>\n",
       "      <td>201557</td>\n",
       "    </tr>\n",
       "    <tr>\n",
       "      <th>184</th>\n",
       "      <td>A01</td>\n",
       "      <td>ST0001</td>\n",
       "      <td>201631</td>\n",
       "      <td>832400</td>\n",
       "    </tr>\n",
       "    <tr>\n",
       "      <th>185</th>\n",
       "      <td>A01</td>\n",
       "      <td>ST0002</td>\n",
       "      <td>201631</td>\n",
       "      <td>179630</td>\n",
       "    </tr>\n",
       "    <tr>\n",
       "      <th>186</th>\n",
       "      <td>A01</td>\n",
       "      <td>ST0001</td>\n",
       "      <td>201629</td>\n",
       "      <td>809554</td>\n",
       "    </tr>\n",
       "    <tr>\n",
       "      <th>187</th>\n",
       "      <td>A01</td>\n",
       "      <td>ST0002</td>\n",
       "      <td>201629</td>\n",
       "      <td>163171</td>\n",
       "    </tr>\n",
       "    <tr>\n",
       "      <th>188</th>\n",
       "      <td>A01</td>\n",
       "      <td>ST0001</td>\n",
       "      <td>201627</td>\n",
       "      <td>798282</td>\n",
       "    </tr>\n",
       "    <tr>\n",
       "      <th>189</th>\n",
       "      <td>A01</td>\n",
       "      <td>ST0002</td>\n",
       "      <td>201627</td>\n",
       "      <td>188335</td>\n",
       "    </tr>\n",
       "    <tr>\n",
       "      <th>190</th>\n",
       "      <td>A01</td>\n",
       "      <td>ST0001</td>\n",
       "      <td>201634</td>\n",
       "      <td>711380</td>\n",
       "    </tr>\n",
       "    <tr>\n",
       "      <th>191</th>\n",
       "      <td>A01</td>\n",
       "      <td>ST0002</td>\n",
       "      <td>201634</td>\n",
       "      <td>181811</td>\n",
       "    </tr>\n",
       "    <tr>\n",
       "      <th>192</th>\n",
       "      <td>A01</td>\n",
       "      <td>ST0001</td>\n",
       "      <td>201632</td>\n",
       "      <td>774620</td>\n",
       "    </tr>\n",
       "    <tr>\n",
       "      <th>193</th>\n",
       "      <td>A01</td>\n",
       "      <td>ST0002</td>\n",
       "      <td>201632</td>\n",
       "      <td>215174</td>\n",
       "    </tr>\n",
       "    <tr>\n",
       "      <th>194</th>\n",
       "      <td>A01</td>\n",
       "      <td>ST0001</td>\n",
       "      <td>201648</td>\n",
       "      <td>873341</td>\n",
       "    </tr>\n",
       "    <tr>\n",
       "      <th>195</th>\n",
       "      <td>A01</td>\n",
       "      <td>ST0002</td>\n",
       "      <td>201648</td>\n",
       "      <td>711806</td>\n",
       "    </tr>\n",
       "    <tr>\n",
       "      <th>196</th>\n",
       "      <td>A01</td>\n",
       "      <td>ST0001</td>\n",
       "      <td>201646</td>\n",
       "      <td>630040</td>\n",
       "    </tr>\n",
       "    <tr>\n",
       "      <th>197</th>\n",
       "      <td>A01</td>\n",
       "      <td>ST0002</td>\n",
       "      <td>201646</td>\n",
       "      <td>441993</td>\n",
       "    </tr>\n",
       "    <tr>\n",
       "      <th>198</th>\n",
       "      <td>A01</td>\n",
       "      <td>ST0001</td>\n",
       "      <td>201651</td>\n",
       "      <td>1175605</td>\n",
       "    </tr>\n",
       "    <tr>\n",
       "      <th>199</th>\n",
       "      <td>A01</td>\n",
       "      <td>ST0002</td>\n",
       "      <td>201651</td>\n",
       "      <td>401602</td>\n",
       "    </tr>\n",
       "    <tr>\n",
       "      <th>200</th>\n",
       "      <td>A01</td>\n",
       "      <td>ST0001</td>\n",
       "      <td>201649</td>\n",
       "      <td>749699</td>\n",
       "    </tr>\n",
       "    <tr>\n",
       "      <th>201</th>\n",
       "      <td>A01</td>\n",
       "      <td>ST0002</td>\n",
       "      <td>201649</td>\n",
       "      <td>278487</td>\n",
       "    </tr>\n",
       "    <tr>\n",
       "      <th>202</th>\n",
       "      <td>A01</td>\n",
       "      <td>ST0001</td>\n",
       "      <td>201647</td>\n",
       "      <td>1037853</td>\n",
       "    </tr>\n",
       "    <tr>\n",
       "      <th>203</th>\n",
       "      <td>A01</td>\n",
       "      <td>ST0002</td>\n",
       "      <td>201647</td>\n",
       "      <td>1663206</td>\n",
       "    </tr>\n",
       "    <tr>\n",
       "      <th>204</th>\n",
       "      <td>A01</td>\n",
       "      <td>ST0001</td>\n",
       "      <td>201645</td>\n",
       "      <td>585098</td>\n",
       "    </tr>\n",
       "    <tr>\n",
       "      <th>205</th>\n",
       "      <td>A01</td>\n",
       "      <td>ST0002</td>\n",
       "      <td>201645</td>\n",
       "      <td>192137</td>\n",
       "    </tr>\n",
       "    <tr>\n",
       "      <th>206</th>\n",
       "      <td>A01</td>\n",
       "      <td>ST0001</td>\n",
       "      <td>201652</td>\n",
       "      <td>813749</td>\n",
       "    </tr>\n",
       "    <tr>\n",
       "      <th>207</th>\n",
       "      <td>A01</td>\n",
       "      <td>ST0002</td>\n",
       "      <td>201652</td>\n",
       "      <td>208186</td>\n",
       "    </tr>\n",
       "    <tr>\n",
       "      <th>208</th>\n",
       "      <td>A01</td>\n",
       "      <td>ST0001</td>\n",
       "      <td>201650</td>\n",
       "      <td>786380</td>\n",
       "    </tr>\n",
       "    <tr>\n",
       "      <th>209</th>\n",
       "      <td>A01</td>\n",
       "      <td>ST0002</td>\n",
       "      <td>201650</td>\n",
       "      <td>320253</td>\n",
       "    </tr>\n",
       "  </tbody>\n",
       "</table>\n",
       "<p>210 rows × 4 columns</p>\n",
       "</div>"
      ],
      "text/plain": [
       "    REGIONID PRODUCTGROUP  YEARWEEK   VOLUME\n",
       "0        A01       ST0002    201512   151750\n",
       "1        A01       ST0001    201520   645626\n",
       "2        A01       ST0002    201520   125863\n",
       "3        A01       ST0001    201515   810144\n",
       "4        A01       ST0002    201515   128999\n",
       "5        A01       ST0001    201518   671464\n",
       "6        A01       ST0002    201518   134467\n",
       "7        A01       ST0001    201513   470040\n",
       "8        A01       ST0002    201513   140297\n",
       "9        A01       ST0001    201511   524787\n",
       "10       A01       ST0002    201511   145509\n",
       "11       A01       ST0001    201516   764927\n",
       "12       A01       ST0002    201516   140313\n",
       "13       A01       ST0001    201519   682757\n",
       "14       A01       ST0002    201519   128668\n",
       "15       A01       ST0001    201514   428195\n",
       "16       A01       ST0002    201514   137488\n",
       "17       A01       ST0001    201512   486509\n",
       "18       A01       ST0001    201517   697502\n",
       "19       A01       ST0002    201517   127163\n",
       "20       A01       ST0001    201507   620392\n",
       "21       A01       ST0002    201507   146476\n",
       "22       A01       ST0001    201510   511679\n",
       "23       A01       ST0002    201510   153152\n",
       "24       A01       ST0001    201502   438251\n",
       "25       A01       ST0002    201502   123875\n",
       "26       A01       ST0001    201505   482381\n",
       "27       A01       ST0002    201505   180516\n",
       "28       A01       ST0001    201508   571781\n",
       "29       A01       ST0002    201508   156772\n",
       "..       ...          ...       ...      ...\n",
       "180      A01       ST0001    201635   732598\n",
       "181      A01       ST0002    201635   229962\n",
       "182      A01       ST0001    201633   748038\n",
       "183      A01       ST0002    201633   201557\n",
       "184      A01       ST0001    201631   832400\n",
       "185      A01       ST0002    201631   179630\n",
       "186      A01       ST0001    201629   809554\n",
       "187      A01       ST0002    201629   163171\n",
       "188      A01       ST0001    201627   798282\n",
       "189      A01       ST0002    201627   188335\n",
       "190      A01       ST0001    201634   711380\n",
       "191      A01       ST0002    201634   181811\n",
       "192      A01       ST0001    201632   774620\n",
       "193      A01       ST0002    201632   215174\n",
       "194      A01       ST0001    201648   873341\n",
       "195      A01       ST0002    201648   711806\n",
       "196      A01       ST0001    201646   630040\n",
       "197      A01       ST0002    201646   441993\n",
       "198      A01       ST0001    201651  1175605\n",
       "199      A01       ST0002    201651   401602\n",
       "200      A01       ST0001    201649   749699\n",
       "201      A01       ST0002    201649   278487\n",
       "202      A01       ST0001    201647  1037853\n",
       "203      A01       ST0002    201647  1663206\n",
       "204      A01       ST0001    201645   585098\n",
       "205      A01       ST0002    201645   192137\n",
       "206      A01       ST0001    201652   813749\n",
       "207      A01       ST0002    201652   208186\n",
       "208      A01       ST0001    201650   786380\n",
       "209      A01       ST0002    201650   320253\n",
       "\n",
       "[210 rows x 4 columns]"
      ]
     },
     "execution_count": 31,
     "metadata": {},
     "output_type": "execute_result"
    }
   ],
   "source": [
    "pd.read_csv(\"C:/Users/SMART-20/python_fintech/kopo_product_volume.csv\")"
   ]
  },
  {
   "cell_type": "code",
   "execution_count": 32,
   "metadata": {},
   "outputs": [
    {
     "data": {
      "text/plain": [
       "'C:\\\\Users\\\\SMART-20\\\\python_fintech'"
      ]
     },
     "execution_count": 32,
     "metadata": {},
     "output_type": "execute_result"
    }
   ],
   "source": [
    "pwd"
   ]
  },
  {
   "cell_type": "code",
   "execution_count": 33,
   "metadata": {},
   "outputs": [
    {
     "data": {
      "text/html": [
       "<div>\n",
       "<style scoped>\n",
       "    .dataframe tbody tr th:only-of-type {\n",
       "        vertical-align: middle;\n",
       "    }\n",
       "\n",
       "    .dataframe tbody tr th {\n",
       "        vertical-align: top;\n",
       "    }\n",
       "\n",
       "    .dataframe thead th {\n",
       "        text-align: right;\n",
       "    }\n",
       "</style>\n",
       "<table border=\"1\" class=\"dataframe\">\n",
       "  <thead>\n",
       "    <tr style=\"text-align: right;\">\n",
       "      <th></th>\n",
       "      <th>REGIONID</th>\n",
       "      <th>PRODUCTGROUP</th>\n",
       "      <th>YEARWEEK</th>\n",
       "      <th>VOLUME</th>\n",
       "    </tr>\n",
       "  </thead>\n",
       "  <tbody>\n",
       "    <tr>\n",
       "      <th>0</th>\n",
       "      <td>A01</td>\n",
       "      <td>ST0002</td>\n",
       "      <td>201512</td>\n",
       "      <td>151750</td>\n",
       "    </tr>\n",
       "    <tr>\n",
       "      <th>1</th>\n",
       "      <td>A01</td>\n",
       "      <td>ST0001</td>\n",
       "      <td>201520</td>\n",
       "      <td>645626</td>\n",
       "    </tr>\n",
       "    <tr>\n",
       "      <th>2</th>\n",
       "      <td>A01</td>\n",
       "      <td>ST0002</td>\n",
       "      <td>201520</td>\n",
       "      <td>125863</td>\n",
       "    </tr>\n",
       "    <tr>\n",
       "      <th>3</th>\n",
       "      <td>A01</td>\n",
       "      <td>ST0001</td>\n",
       "      <td>201515</td>\n",
       "      <td>810144</td>\n",
       "    </tr>\n",
       "    <tr>\n",
       "      <th>4</th>\n",
       "      <td>A01</td>\n",
       "      <td>ST0002</td>\n",
       "      <td>201515</td>\n",
       "      <td>128999</td>\n",
       "    </tr>\n",
       "    <tr>\n",
       "      <th>5</th>\n",
       "      <td>A01</td>\n",
       "      <td>ST0001</td>\n",
       "      <td>201518</td>\n",
       "      <td>671464</td>\n",
       "    </tr>\n",
       "    <tr>\n",
       "      <th>6</th>\n",
       "      <td>A01</td>\n",
       "      <td>ST0002</td>\n",
       "      <td>201518</td>\n",
       "      <td>134467</td>\n",
       "    </tr>\n",
       "    <tr>\n",
       "      <th>7</th>\n",
       "      <td>A01</td>\n",
       "      <td>ST0001</td>\n",
       "      <td>201513</td>\n",
       "      <td>470040</td>\n",
       "    </tr>\n",
       "    <tr>\n",
       "      <th>8</th>\n",
       "      <td>A01</td>\n",
       "      <td>ST0002</td>\n",
       "      <td>201513</td>\n",
       "      <td>140297</td>\n",
       "    </tr>\n",
       "    <tr>\n",
       "      <th>9</th>\n",
       "      <td>A01</td>\n",
       "      <td>ST0001</td>\n",
       "      <td>201511</td>\n",
       "      <td>524787</td>\n",
       "    </tr>\n",
       "    <tr>\n",
       "      <th>10</th>\n",
       "      <td>A01</td>\n",
       "      <td>ST0002</td>\n",
       "      <td>201511</td>\n",
       "      <td>145509</td>\n",
       "    </tr>\n",
       "    <tr>\n",
       "      <th>11</th>\n",
       "      <td>A01</td>\n",
       "      <td>ST0001</td>\n",
       "      <td>201516</td>\n",
       "      <td>764927</td>\n",
       "    </tr>\n",
       "    <tr>\n",
       "      <th>12</th>\n",
       "      <td>A01</td>\n",
       "      <td>ST0002</td>\n",
       "      <td>201516</td>\n",
       "      <td>140313</td>\n",
       "    </tr>\n",
       "    <tr>\n",
       "      <th>13</th>\n",
       "      <td>A01</td>\n",
       "      <td>ST0001</td>\n",
       "      <td>201519</td>\n",
       "      <td>682757</td>\n",
       "    </tr>\n",
       "    <tr>\n",
       "      <th>14</th>\n",
       "      <td>A01</td>\n",
       "      <td>ST0002</td>\n",
       "      <td>201519</td>\n",
       "      <td>128668</td>\n",
       "    </tr>\n",
       "    <tr>\n",
       "      <th>15</th>\n",
       "      <td>A01</td>\n",
       "      <td>ST0001</td>\n",
       "      <td>201514</td>\n",
       "      <td>428195</td>\n",
       "    </tr>\n",
       "    <tr>\n",
       "      <th>16</th>\n",
       "      <td>A01</td>\n",
       "      <td>ST0002</td>\n",
       "      <td>201514</td>\n",
       "      <td>137488</td>\n",
       "    </tr>\n",
       "    <tr>\n",
       "      <th>17</th>\n",
       "      <td>A01</td>\n",
       "      <td>ST0001</td>\n",
       "      <td>201512</td>\n",
       "      <td>486509</td>\n",
       "    </tr>\n",
       "    <tr>\n",
       "      <th>18</th>\n",
       "      <td>A01</td>\n",
       "      <td>ST0001</td>\n",
       "      <td>201517</td>\n",
       "      <td>697502</td>\n",
       "    </tr>\n",
       "    <tr>\n",
       "      <th>19</th>\n",
       "      <td>A01</td>\n",
       "      <td>ST0002</td>\n",
       "      <td>201517</td>\n",
       "      <td>127163</td>\n",
       "    </tr>\n",
       "    <tr>\n",
       "      <th>20</th>\n",
       "      <td>A01</td>\n",
       "      <td>ST0001</td>\n",
       "      <td>201507</td>\n",
       "      <td>620392</td>\n",
       "    </tr>\n",
       "    <tr>\n",
       "      <th>21</th>\n",
       "      <td>A01</td>\n",
       "      <td>ST0002</td>\n",
       "      <td>201507</td>\n",
       "      <td>146476</td>\n",
       "    </tr>\n",
       "    <tr>\n",
       "      <th>22</th>\n",
       "      <td>A01</td>\n",
       "      <td>ST0001</td>\n",
       "      <td>201510</td>\n",
       "      <td>511679</td>\n",
       "    </tr>\n",
       "    <tr>\n",
       "      <th>23</th>\n",
       "      <td>A01</td>\n",
       "      <td>ST0002</td>\n",
       "      <td>201510</td>\n",
       "      <td>153152</td>\n",
       "    </tr>\n",
       "    <tr>\n",
       "      <th>24</th>\n",
       "      <td>A01</td>\n",
       "      <td>ST0001</td>\n",
       "      <td>201502</td>\n",
       "      <td>438251</td>\n",
       "    </tr>\n",
       "    <tr>\n",
       "      <th>25</th>\n",
       "      <td>A01</td>\n",
       "      <td>ST0002</td>\n",
       "      <td>201502</td>\n",
       "      <td>123875</td>\n",
       "    </tr>\n",
       "    <tr>\n",
       "      <th>26</th>\n",
       "      <td>A01</td>\n",
       "      <td>ST0001</td>\n",
       "      <td>201505</td>\n",
       "      <td>482381</td>\n",
       "    </tr>\n",
       "    <tr>\n",
       "      <th>27</th>\n",
       "      <td>A01</td>\n",
       "      <td>ST0002</td>\n",
       "      <td>201505</td>\n",
       "      <td>180516</td>\n",
       "    </tr>\n",
       "    <tr>\n",
       "      <th>28</th>\n",
       "      <td>A01</td>\n",
       "      <td>ST0001</td>\n",
       "      <td>201508</td>\n",
       "      <td>571781</td>\n",
       "    </tr>\n",
       "    <tr>\n",
       "      <th>29</th>\n",
       "      <td>A01</td>\n",
       "      <td>ST0002</td>\n",
       "      <td>201508</td>\n",
       "      <td>156772</td>\n",
       "    </tr>\n",
       "    <tr>\n",
       "      <th>...</th>\n",
       "      <td>...</td>\n",
       "      <td>...</td>\n",
       "      <td>...</td>\n",
       "      <td>...</td>\n",
       "    </tr>\n",
       "    <tr>\n",
       "      <th>180</th>\n",
       "      <td>A01</td>\n",
       "      <td>ST0001</td>\n",
       "      <td>201635</td>\n",
       "      <td>732598</td>\n",
       "    </tr>\n",
       "    <tr>\n",
       "      <th>181</th>\n",
       "      <td>A01</td>\n",
       "      <td>ST0002</td>\n",
       "      <td>201635</td>\n",
       "      <td>229962</td>\n",
       "    </tr>\n",
       "    <tr>\n",
       "      <th>182</th>\n",
       "      <td>A01</td>\n",
       "      <td>ST0001</td>\n",
       "      <td>201633</td>\n",
       "      <td>748038</td>\n",
       "    </tr>\n",
       "    <tr>\n",
       "      <th>183</th>\n",
       "      <td>A01</td>\n",
       "      <td>ST0002</td>\n",
       "      <td>201633</td>\n",
       "      <td>201557</td>\n",
       "    </tr>\n",
       "    <tr>\n",
       "      <th>184</th>\n",
       "      <td>A01</td>\n",
       "      <td>ST0001</td>\n",
       "      <td>201631</td>\n",
       "      <td>832400</td>\n",
       "    </tr>\n",
       "    <tr>\n",
       "      <th>185</th>\n",
       "      <td>A01</td>\n",
       "      <td>ST0002</td>\n",
       "      <td>201631</td>\n",
       "      <td>179630</td>\n",
       "    </tr>\n",
       "    <tr>\n",
       "      <th>186</th>\n",
       "      <td>A01</td>\n",
       "      <td>ST0001</td>\n",
       "      <td>201629</td>\n",
       "      <td>809554</td>\n",
       "    </tr>\n",
       "    <tr>\n",
       "      <th>187</th>\n",
       "      <td>A01</td>\n",
       "      <td>ST0002</td>\n",
       "      <td>201629</td>\n",
       "      <td>163171</td>\n",
       "    </tr>\n",
       "    <tr>\n",
       "      <th>188</th>\n",
       "      <td>A01</td>\n",
       "      <td>ST0001</td>\n",
       "      <td>201627</td>\n",
       "      <td>798282</td>\n",
       "    </tr>\n",
       "    <tr>\n",
       "      <th>189</th>\n",
       "      <td>A01</td>\n",
       "      <td>ST0002</td>\n",
       "      <td>201627</td>\n",
       "      <td>188335</td>\n",
       "    </tr>\n",
       "    <tr>\n",
       "      <th>190</th>\n",
       "      <td>A01</td>\n",
       "      <td>ST0001</td>\n",
       "      <td>201634</td>\n",
       "      <td>711380</td>\n",
       "    </tr>\n",
       "    <tr>\n",
       "      <th>191</th>\n",
       "      <td>A01</td>\n",
       "      <td>ST0002</td>\n",
       "      <td>201634</td>\n",
       "      <td>181811</td>\n",
       "    </tr>\n",
       "    <tr>\n",
       "      <th>192</th>\n",
       "      <td>A01</td>\n",
       "      <td>ST0001</td>\n",
       "      <td>201632</td>\n",
       "      <td>774620</td>\n",
       "    </tr>\n",
       "    <tr>\n",
       "      <th>193</th>\n",
       "      <td>A01</td>\n",
       "      <td>ST0002</td>\n",
       "      <td>201632</td>\n",
       "      <td>215174</td>\n",
       "    </tr>\n",
       "    <tr>\n",
       "      <th>194</th>\n",
       "      <td>A01</td>\n",
       "      <td>ST0001</td>\n",
       "      <td>201648</td>\n",
       "      <td>873341</td>\n",
       "    </tr>\n",
       "    <tr>\n",
       "      <th>195</th>\n",
       "      <td>A01</td>\n",
       "      <td>ST0002</td>\n",
       "      <td>201648</td>\n",
       "      <td>711806</td>\n",
       "    </tr>\n",
       "    <tr>\n",
       "      <th>196</th>\n",
       "      <td>A01</td>\n",
       "      <td>ST0001</td>\n",
       "      <td>201646</td>\n",
       "      <td>630040</td>\n",
       "    </tr>\n",
       "    <tr>\n",
       "      <th>197</th>\n",
       "      <td>A01</td>\n",
       "      <td>ST0002</td>\n",
       "      <td>201646</td>\n",
       "      <td>441993</td>\n",
       "    </tr>\n",
       "    <tr>\n",
       "      <th>198</th>\n",
       "      <td>A01</td>\n",
       "      <td>ST0001</td>\n",
       "      <td>201651</td>\n",
       "      <td>1175605</td>\n",
       "    </tr>\n",
       "    <tr>\n",
       "      <th>199</th>\n",
       "      <td>A01</td>\n",
       "      <td>ST0002</td>\n",
       "      <td>201651</td>\n",
       "      <td>401602</td>\n",
       "    </tr>\n",
       "    <tr>\n",
       "      <th>200</th>\n",
       "      <td>A01</td>\n",
       "      <td>ST0001</td>\n",
       "      <td>201649</td>\n",
       "      <td>749699</td>\n",
       "    </tr>\n",
       "    <tr>\n",
       "      <th>201</th>\n",
       "      <td>A01</td>\n",
       "      <td>ST0002</td>\n",
       "      <td>201649</td>\n",
       "      <td>278487</td>\n",
       "    </tr>\n",
       "    <tr>\n",
       "      <th>202</th>\n",
       "      <td>A01</td>\n",
       "      <td>ST0001</td>\n",
       "      <td>201647</td>\n",
       "      <td>1037853</td>\n",
       "    </tr>\n",
       "    <tr>\n",
       "      <th>203</th>\n",
       "      <td>A01</td>\n",
       "      <td>ST0002</td>\n",
       "      <td>201647</td>\n",
       "      <td>1663206</td>\n",
       "    </tr>\n",
       "    <tr>\n",
       "      <th>204</th>\n",
       "      <td>A01</td>\n",
       "      <td>ST0001</td>\n",
       "      <td>201645</td>\n",
       "      <td>585098</td>\n",
       "    </tr>\n",
       "    <tr>\n",
       "      <th>205</th>\n",
       "      <td>A01</td>\n",
       "      <td>ST0002</td>\n",
       "      <td>201645</td>\n",
       "      <td>192137</td>\n",
       "    </tr>\n",
       "    <tr>\n",
       "      <th>206</th>\n",
       "      <td>A01</td>\n",
       "      <td>ST0001</td>\n",
       "      <td>201652</td>\n",
       "      <td>813749</td>\n",
       "    </tr>\n",
       "    <tr>\n",
       "      <th>207</th>\n",
       "      <td>A01</td>\n",
       "      <td>ST0002</td>\n",
       "      <td>201652</td>\n",
       "      <td>208186</td>\n",
       "    </tr>\n",
       "    <tr>\n",
       "      <th>208</th>\n",
       "      <td>A01</td>\n",
       "      <td>ST0001</td>\n",
       "      <td>201650</td>\n",
       "      <td>786380</td>\n",
       "    </tr>\n",
       "    <tr>\n",
       "      <th>209</th>\n",
       "      <td>A01</td>\n",
       "      <td>ST0002</td>\n",
       "      <td>201650</td>\n",
       "      <td>320253</td>\n",
       "    </tr>\n",
       "  </tbody>\n",
       "</table>\n",
       "<p>210 rows × 4 columns</p>\n",
       "</div>"
      ],
      "text/plain": [
       "    REGIONID PRODUCTGROUP  YEARWEEK   VOLUME\n",
       "0        A01       ST0002    201512   151750\n",
       "1        A01       ST0001    201520   645626\n",
       "2        A01       ST0002    201520   125863\n",
       "3        A01       ST0001    201515   810144\n",
       "4        A01       ST0002    201515   128999\n",
       "5        A01       ST0001    201518   671464\n",
       "6        A01       ST0002    201518   134467\n",
       "7        A01       ST0001    201513   470040\n",
       "8        A01       ST0002    201513   140297\n",
       "9        A01       ST0001    201511   524787\n",
       "10       A01       ST0002    201511   145509\n",
       "11       A01       ST0001    201516   764927\n",
       "12       A01       ST0002    201516   140313\n",
       "13       A01       ST0001    201519   682757\n",
       "14       A01       ST0002    201519   128668\n",
       "15       A01       ST0001    201514   428195\n",
       "16       A01       ST0002    201514   137488\n",
       "17       A01       ST0001    201512   486509\n",
       "18       A01       ST0001    201517   697502\n",
       "19       A01       ST0002    201517   127163\n",
       "20       A01       ST0001    201507   620392\n",
       "21       A01       ST0002    201507   146476\n",
       "22       A01       ST0001    201510   511679\n",
       "23       A01       ST0002    201510   153152\n",
       "24       A01       ST0001    201502   438251\n",
       "25       A01       ST0002    201502   123875\n",
       "26       A01       ST0001    201505   482381\n",
       "27       A01       ST0002    201505   180516\n",
       "28       A01       ST0001    201508   571781\n",
       "29       A01       ST0002    201508   156772\n",
       "..       ...          ...       ...      ...\n",
       "180      A01       ST0001    201635   732598\n",
       "181      A01       ST0002    201635   229962\n",
       "182      A01       ST0001    201633   748038\n",
       "183      A01       ST0002    201633   201557\n",
       "184      A01       ST0001    201631   832400\n",
       "185      A01       ST0002    201631   179630\n",
       "186      A01       ST0001    201629   809554\n",
       "187      A01       ST0002    201629   163171\n",
       "188      A01       ST0001    201627   798282\n",
       "189      A01       ST0002    201627   188335\n",
       "190      A01       ST0001    201634   711380\n",
       "191      A01       ST0002    201634   181811\n",
       "192      A01       ST0001    201632   774620\n",
       "193      A01       ST0002    201632   215174\n",
       "194      A01       ST0001    201648   873341\n",
       "195      A01       ST0002    201648   711806\n",
       "196      A01       ST0001    201646   630040\n",
       "197      A01       ST0002    201646   441993\n",
       "198      A01       ST0001    201651  1175605\n",
       "199      A01       ST0002    201651   401602\n",
       "200      A01       ST0001    201649   749699\n",
       "201      A01       ST0002    201649   278487\n",
       "202      A01       ST0001    201647  1037853\n",
       "203      A01       ST0002    201647  1663206\n",
       "204      A01       ST0001    201645   585098\n",
       "205      A01       ST0002    201645   192137\n",
       "206      A01       ST0001    201652   813749\n",
       "207      A01       ST0002    201652   208186\n",
       "208      A01       ST0001    201650   786380\n",
       "209      A01       ST0002    201650   320253\n",
       "\n",
       "[210 rows x 4 columns]"
      ]
     },
     "execution_count": 33,
     "metadata": {},
     "output_type": "execute_result"
    }
   ],
   "source": [
    "pd.read_csv(\"./kopo_product_volume.csv\")"
   ]
  },
  {
   "cell_type": "code",
   "execution_count": 34,
   "metadata": {},
   "outputs": [
    {
     "name": "stdout",
     "output_type": "stream",
     "text": [
      "3\n",
      "5\n"
     ]
    }
   ],
   "source": [
    "a=3\n",
    "A=5\n",
    "print(a)\n",
    "print(A)"
   ]
  },
  {
   "cell_type": "code",
   "execution_count": 35,
   "metadata": {},
   "outputs": [
    {
     "name": "stdout",
     "output_type": "stream",
     "text": [
      "3\n"
     ]
    }
   ],
   "source": [
    "print(a)"
   ]
  },
  {
   "cell_type": "code",
   "execution_count": 36,
   "metadata": {},
   "outputs": [
    {
     "name": "stdout",
     "output_type": "stream",
     "text": [
      "    REGIONID PRODUCTGROUP  YEARWEEK   VOLUME\n",
      "0        A01       ST0002    201512   151750\n",
      "1        A01       ST0001    201520   645626\n",
      "2        A01       ST0002    201520   125863\n",
      "3        A01       ST0001    201515   810144\n",
      "4        A01       ST0002    201515   128999\n",
      "5        A01       ST0001    201518   671464\n",
      "6        A01       ST0002    201518   134467\n",
      "7        A01       ST0001    201513   470040\n",
      "8        A01       ST0002    201513   140297\n",
      "9        A01       ST0001    201511   524787\n",
      "10       A01       ST0002    201511   145509\n",
      "11       A01       ST0001    201516   764927\n",
      "12       A01       ST0002    201516   140313\n",
      "13       A01       ST0001    201519   682757\n",
      "14       A01       ST0002    201519   128668\n",
      "15       A01       ST0001    201514   428195\n",
      "16       A01       ST0002    201514   137488\n",
      "17       A01       ST0001    201512   486509\n",
      "18       A01       ST0001    201517   697502\n",
      "19       A01       ST0002    201517   127163\n",
      "20       A01       ST0001    201507   620392\n",
      "21       A01       ST0002    201507   146476\n",
      "22       A01       ST0001    201510   511679\n",
      "23       A01       ST0002    201510   153152\n",
      "24       A01       ST0001    201502   438251\n",
      "25       A01       ST0002    201502   123875\n",
      "26       A01       ST0001    201505   482381\n",
      "27       A01       ST0002    201505   180516\n",
      "28       A01       ST0001    201508   571781\n",
      "29       A01       ST0002    201508   156772\n",
      "..       ...          ...       ...      ...\n",
      "180      A01       ST0001    201635   732598\n",
      "181      A01       ST0002    201635   229962\n",
      "182      A01       ST0001    201633   748038\n",
      "183      A01       ST0002    201633   201557\n",
      "184      A01       ST0001    201631   832400\n",
      "185      A01       ST0002    201631   179630\n",
      "186      A01       ST0001    201629   809554\n",
      "187      A01       ST0002    201629   163171\n",
      "188      A01       ST0001    201627   798282\n",
      "189      A01       ST0002    201627   188335\n",
      "190      A01       ST0001    201634   711380\n",
      "191      A01       ST0002    201634   181811\n",
      "192      A01       ST0001    201632   774620\n",
      "193      A01       ST0002    201632   215174\n",
      "194      A01       ST0001    201648   873341\n",
      "195      A01       ST0002    201648   711806\n",
      "196      A01       ST0001    201646   630040\n",
      "197      A01       ST0002    201646   441993\n",
      "198      A01       ST0001    201651  1175605\n",
      "199      A01       ST0002    201651   401602\n",
      "200      A01       ST0001    201649   749699\n",
      "201      A01       ST0002    201649   278487\n",
      "202      A01       ST0001    201647  1037853\n",
      "203      A01       ST0002    201647  1663206\n",
      "204      A01       ST0001    201645   585098\n",
      "205      A01       ST0002    201645   192137\n",
      "206      A01       ST0001    201652   813749\n",
      "207      A01       ST0002    201652   208186\n",
      "208      A01       ST0001    201650   786380\n",
      "209      A01       ST0002    201650   320253\n",
      "\n",
      "[210 rows x 4 columns]\n"
     ]
    }
   ],
   "source": [
    "R=pd.read_csv(\"./kopo_product_volume.csv\")\n",
    "print(R)"
   ]
  },
  {
   "cell_type": "code",
   "execution_count": 37,
   "metadata": {},
   "outputs": [],
   "source": [
    "integer_value=123"
   ]
  },
  {
   "cell_type": "code",
   "execution_count": 38,
   "metadata": {},
   "outputs": [
    {
     "data": {
      "text/plain": [
       "int"
      ]
     },
     "execution_count": 38,
     "metadata": {},
     "output_type": "execute_result"
    }
   ],
   "source": [
    "type(integer_value)"
   ]
  },
  {
   "cell_type": "code",
   "execution_count": 39,
   "metadata": {},
   "outputs": [
    {
     "name": "stdout",
     "output_type": "stream",
     "text": [
      "16\n"
     ]
    }
   ],
   "source": [
    "integer_value=5\n",
    "float_value=11\n",
    "sum = integer_value+float_value\n",
    "print(sum)"
   ]
  },
  {
   "cell_type": "code",
   "execution_count": 40,
   "metadata": {},
   "outputs": [
    {
     "name": "stdout",
     "output_type": "stream",
     "text": [
      "8\n"
     ]
    }
   ],
   "source": [
    "sum = a+A\n",
    "print(sum)"
   ]
  },
  {
   "cell_type": "code",
   "execution_count": 41,
   "metadata": {},
   "outputs": [
    {
     "name": "stdout",
     "output_type": "stream",
     "text": [
      "15\n"
     ]
    }
   ],
   "source": [
    "multiple = a*A\n",
    "print(multiple)"
   ]
  },
  {
   "cell_type": "code",
   "execution_count": 42,
   "metadata": {},
   "outputs": [
    {
     "name": "stdout",
     "output_type": "stream",
     "text": [
      "0.6\n"
     ]
    }
   ],
   "source": [
    "division = a/A\n",
    "print(division)"
   ]
  },
  {
   "cell_type": "code",
   "execution_count": 43,
   "metadata": {},
   "outputs": [
    {
     "name": "stdout",
     "output_type": "stream",
     "text": [
      "243\n"
     ]
    }
   ],
   "source": [
    "exponential=a**A\n",
    "print(exponential)"
   ]
  },
  {
   "cell_type": "code",
   "execution_count": 44,
   "metadata": {},
   "outputs": [
    {
     "name": "stdout",
     "output_type": "stream",
     "text": [
      "3\n"
     ]
    }
   ],
   "source": [
    "mod = a%A\n",
    "print(mod)"
   ]
  },
  {
   "cell_type": "code",
   "execution_count": 45,
   "metadata": {},
   "outputs": [],
   "source": [
    "a=543\n",
    "A=889"
   ]
  },
  {
   "cell_type": "code",
   "execution_count": 46,
   "metadata": {},
   "outputs": [
    {
     "name": "stdout",
     "output_type": "stream",
     "text": [
      "1432\n"
     ]
    }
   ],
   "source": [
    "sum=a+A\n",
    "print(sum)"
   ]
  },
  {
   "cell_type": "code",
   "execution_count": 47,
   "metadata": {},
   "outputs": [
    {
     "name": "stdout",
     "output_type": "stream",
     "text": [
      "1432\n"
     ]
    }
   ],
   "source": [
    "print(sum)"
   ]
  },
  {
   "cell_type": "code",
   "execution_count": 48,
   "metadata": {},
   "outputs": [
    {
     "name": "stdout",
     "output_type": "stream",
     "text": [
      "0.6107986501687289\n"
     ]
    }
   ],
   "source": [
    "division=a/A\n",
    "print(division)"
   ]
  },
  {
   "cell_type": "code",
   "execution_count": 49,
   "metadata": {},
   "outputs": [
    {
     "name": "stdout",
     "output_type": "stream",
     "text": [
      "482727\n"
     ]
    }
   ],
   "source": [
    "multiple=a*A\n",
    "print(multiple)"
   ]
  },
  {
   "cell_type": "code",
   "execution_count": 50,
   "metadata": {},
   "outputs": [
    {
     "name": "stdout",
     "output_type": "stream",
     "text": [
      "17260306541742775150917329794221336700772438439130176456841193874737678169944548859213502908319012216943745114649575663516712113226383866249322381813570214698051432750753058138585310649305729608783352043998676110498582290974403893491169903540268410357613259283547164121445297633047305597444825906026689355103578952963127192828617025736819444684530710371478035319437533723257932122072238985222053251711707880167721537241104068527020485530705437761374195218723237467301234691800456355249817866417611273834362682930724094814293463769467901558096694019542036403492980934258636805401756484075987757284268592171351973779524195997187099770594455570882584549544187770964741290863860153102577041982167975413513211227536895713833874031878463016289196277155736424024391619532447428724629151320559246055837891816819808456545215331158275737207311192814807521973823514939048891052069306474401596936504645994436008663681303040335728940324896723823023081435186854319547877834949950966953734003579287140777740802458315329070532796458336809698050798547148356288598722322214094086101177386645561185765238594060448559469006428897216747140890449496410572207245362259959579248503712796264250770124260433787573582652112927053118793987969725421921691272304036620581491517225419725710680768864287429708041029657517608785705505776090031346563104450054344873425195039542761650820777142715376415789549032419332137871424322484561779370334236222319503756161831830996176272647122526516560582881341224068917706728615887657036648947149828876045230511313433313318586405100569085335997713038736621900582938989553751731298300604942777461776787511328868497352736738330947755392458262595784570593475126983927696559521578884037774679261829842465766885358539952922501265374840281887784277450159507242646747815316689049448363722204887988167161809488579601542388801402103563062722815162991523415842593152214473459972137672114773714818357674533006473811177577146554201666082652138140429733584145032169916039815429463650126003257856668537938337286820754657714146194271632330285618605655365207599313229673040173510335196890465521746170530658122720361856840532233254989889090917522038039790852533248466308759352885751306421503818937290398030909039656178693821077790994516164073770486188325646539902047924397699391760426174844295488717876310600464869354384714993182260342972682929146232299439815929344789210577018956851655442959734057223369802155096306653741479604730816170029343\n"
     ]
    }
   ],
   "source": [
    "exponential=a**A\n",
    "print(exponential)"
   ]
  },
  {
   "cell_type": "code",
   "execution_count": 51,
   "metadata": {},
   "outputs": [],
   "source": [
    "T=5\n",
    "t=23"
   ]
  },
  {
   "cell_type": "code",
   "execution_count": 52,
   "metadata": {},
   "outputs": [
    {
     "name": "stdout",
     "output_type": "stream",
     "text": [
      "28\n"
     ]
    }
   ],
   "source": [
    "sum=T+t\n",
    "print(sum)"
   ]
  },
  {
   "cell_type": "code",
   "execution_count": 53,
   "metadata": {},
   "outputs": [
    {
     "name": "stdout",
     "output_type": "stream",
     "text": [
      "4.6\n"
     ]
    }
   ],
   "source": [
    "division=t/T\n",
    "print(division)"
   ]
  },
  {
   "cell_type": "code",
   "execution_count": 54,
   "metadata": {},
   "outputs": [],
   "source": [
    "a=12.33"
   ]
  },
  {
   "cell_type": "code",
   "execution_count": 55,
   "metadata": {},
   "outputs": [
    {
     "data": {
      "text/plain": [
       "float"
      ]
     },
     "execution_count": 55,
     "metadata": {},
     "output_type": "execute_result"
    }
   ],
   "source": [
    "type(a)"
   ]
  },
  {
   "cell_type": "code",
   "execution_count": 56,
   "metadata": {},
   "outputs": [],
   "source": [
    "b=3"
   ]
  },
  {
   "cell_type": "code",
   "execution_count": 57,
   "metadata": {},
   "outputs": [
    {
     "data": {
      "text/plain": [
       "int"
      ]
     },
     "execution_count": 57,
     "metadata": {},
     "output_type": "execute_result"
    }
   ],
   "source": [
    "type(b)"
   ]
  },
  {
   "cell_type": "code",
   "execution_count": 58,
   "metadata": {},
   "outputs": [],
   "source": [
    "q=4\n",
    "e=0.34456"
   ]
  },
  {
   "cell_type": "code",
   "execution_count": 59,
   "metadata": {},
   "outputs": [
    {
     "name": "stdout",
     "output_type": "stream",
     "text": [
      "11.609008590666358\n"
     ]
    }
   ],
   "source": [
    "division=q/e\n",
    "print(division)"
   ]
  },
  {
   "cell_type": "code",
   "execution_count": 60,
   "metadata": {},
   "outputs": [
    {
     "name": "stdout",
     "output_type": "stream",
     "text": [
      "0.20984000000000025\n"
     ]
    }
   ],
   "source": [
    "mod=q%e\n",
    "print(mod)"
   ]
  },
  {
   "cell_type": "code",
   "execution_count": 61,
   "metadata": {},
   "outputs": [
    {
     "name": "stdout",
     "output_type": "stream",
     "text": [
      "hour11\n",
      "min12\n",
      "23\n"
     ]
    }
   ],
   "source": [
    "hour = int(input(\"hour\"))\n",
    "min = int(input(\"min\"))\n",
    "sum = hour+min\n",
    "print(sum)"
   ]
  },
  {
   "cell_type": "code",
   "execution_count": 62,
   "metadata": {},
   "outputs": [
    {
     "name": "stdout",
     "output_type": "stream",
     "text": [
      "hour1.2\n",
      "min2.3\n",
      "3.5\n"
     ]
    }
   ],
   "source": [
    "hour = float(input(\"hour\"))\n",
    "min = float(input(\"min\"))\n",
    "sum = hour+min\n",
    "print(sum)"
   ]
  },
  {
   "cell_type": "markdown",
   "metadata": {},
   "source": [
    "## 1. 라이브러리 선언"
   ]
  },
  {
   "cell_type": "code",
   "execution_count": 63,
   "metadata": {},
   "outputs": [
    {
     "data": {
      "text/plain": [
       "datetime.datetime(2019, 3, 14, 11, 48, 39, 650739)"
      ]
     },
     "execution_count": 63,
     "metadata": {},
     "output_type": "execute_result"
    }
   ],
   "source": [
    "import datetime as dt\n",
    "\n",
    "dt.datetime.now()"
   ]
  },
  {
   "cell_type": "markdown",
   "metadata": {},
   "source": [
    "## 2. 시간, 분 정보 불러오기"
   ]
  },
  {
   "cell_type": "code",
   "execution_count": 64,
   "metadata": {},
   "outputs": [
    {
     "name": "stdout",
     "output_type": "stream",
     "text": [
      "11\n",
      "48\n"
     ]
    }
   ],
   "source": [
    "from datetime import datetime as dt2\n",
    "\n",
    "currentDate = dt2.now()\n",
    "\n",
    "# 시간.분 할당\n",
    "hourVar = currentDate.hour\n",
    "minutesVar = currentDate.minute\n",
    "print(hourVar)\n",
    "print(minutesVar)"
   ]
  },
  {
   "cell_type": "markdown",
   "metadata": {},
   "source": [
    "## 3. 결과 저장"
   ]
  },
  {
   "cell_type": "code",
   "execution_count": 65,
   "metadata": {},
   "outputs": [
    {
     "name": "stdout",
     "output_type": "stream",
     "text": [
      "59\n"
     ]
    }
   ],
   "source": [
    "answer = minutesVar + hourVar\n",
    "print(answer)"
   ]
  },
  {
   "cell_type": "code",
   "execution_count": 66,
   "metadata": {},
   "outputs": [],
   "source": [
    "a=123"
   ]
  },
  {
   "cell_type": "code",
   "execution_count": 67,
   "metadata": {},
   "outputs": [],
   "source": [
    "b=\"123\""
   ]
  },
  {
   "cell_type": "code",
   "execution_count": 69,
   "metadata": {},
   "outputs": [
    {
     "name": "stdout",
     "output_type": "stream",
     "text": [
      "124\n"
     ]
    }
   ],
   "source": [
    "answer = a+1\n",
    "print(answer)"
   ]
  },
  {
   "cell_type": "code",
   "execution_count": 71,
   "metadata": {},
   "outputs": [
    {
     "data": {
      "text/plain": [
       "str"
      ]
     },
     "execution_count": 71,
     "metadata": {},
     "output_type": "execute_result"
    }
   ],
   "source": [
    "type(b)"
   ]
  },
  {
   "cell_type": "code",
   "execution_count": 72,
   "metadata": {},
   "outputs": [
    {
     "data": {
      "text/plain": [
       "int"
      ]
     },
     "execution_count": 72,
     "metadata": {},
     "output_type": "execute_result"
    }
   ],
   "source": [
    "type(a)"
   ]
  },
  {
   "cell_type": "code",
   "execution_count": 73,
   "metadata": {},
   "outputs": [
    {
     "name": "stdout",
     "output_type": "stream",
     "text": [
      "holy shuit\n"
     ]
    }
   ],
   "source": [
    "head=\"holy\"\n",
    "tail=\"shuit\"\n",
    "fullstring=head+\" \"+tail\n",
    "print(fullstring)"
   ]
  },
  {
   "cell_type": "code",
   "execution_count": 78,
   "metadata": {},
   "outputs": [
    {
     "name": "stdout",
     "output_type": "stream",
     "text": [
      "2\n"
     ]
    }
   ],
   "source": [
    "yearweek=\"201903\"\n",
    "firstYear = yearweek[0]\n",
    "print(firstYear)"
   ]
  },
  {
   "cell_type": "code",
   "execution_count": 79,
   "metadata": {},
   "outputs": [
    {
     "data": {
      "text/plain": [
       "'2019'"
      ]
     },
     "execution_count": 79,
     "metadata": {},
     "output_type": "execute_result"
    }
   ],
   "source": [
    "yearweek[0:4]"
   ]
  },
  {
   "cell_type": "code",
   "execution_count": 80,
   "metadata": {},
   "outputs": [],
   "source": [
    "yearweek = \"2019W09\""
   ]
  },
  {
   "cell_type": "code",
   "execution_count": 85,
   "metadata": {},
   "outputs": [],
   "source": [
    "splitVar = yearweek.split(\"W\")"
   ]
  },
  {
   "cell_type": "code",
   "execution_count": 86,
   "metadata": {},
   "outputs": [
    {
     "name": "stdout",
     "output_type": "stream",
     "text": [
      "['2019', '09']\n"
     ]
    }
   ],
   "source": [
    "print(splitVar)"
   ]
  },
  {
   "cell_type": "code",
   "execution_count": 105,
   "metadata": {},
   "outputs": [
    {
     "name": "stdout",
     "output_type": "stream",
     "text": [
      "SEC\n",
      "20180212 \n",
      "50\n"
     ]
    }
   ],
   "source": [
    "example=\"SEC 20180212 250\"\n",
    "\n",
    "stockName=example[0:3]\n",
    "date=example[4:13]\n",
    "value=example[14:16]\n",
    "print(stockName)\n",
    "print(date)\n",
    "print(value)"
   ]
  },
  {
   "cell_type": "code",
   "execution_count": 133,
   "metadata": {},
   "outputs": [
    {
     "data": {
      "text/plain": [
       "'SEC2018W28250'"
      ]
     },
     "execution_count": 133,
     "metadata": {},
     "output_type": "execute_result"
    }
   ],
   "source": [
    "a=\"Sec2018W28250\"\n",
    "Uppera = a.upper()\n",
    "Uppera"
   ]
  },
  {
   "cell_type": "code",
   "execution_count": 134,
   "metadata": {},
   "outputs": [
    {
     "data": {
      "text/plain": [
       "'SEC201828250'"
      ]
     },
     "execution_count": 134,
     "metadata": {},
     "output_type": "execute_result"
    }
   ],
   "source": [
    "splita=Uppera.replace(\"W\",\"\")\n",
    "splita"
   ]
  },
  {
   "cell_type": "code",
   "execution_count": 3,
   "metadata": {},
   "outputs": [],
   "source": [
    "# 내가 처음 푼 답\n",
    "# TestList=[120,150,300,500,1000,100,2000]\n",
    "# print(min(TestList))\n",
    "# print(max(TestList))\n",
    "# del TestList[5]\n",
    "# del TestList[5]\n",
    "# print(TestList)\n",
    "# print(sum)\n",
    "# average=sum/len(TestList)\n",
    "# print(average)\n",
    "#답=414.0"
   ]
  },
  {
   "cell_type": "code",
   "execution_count": 9,
   "metadata": {},
   "outputs": [],
   "source": [
    "#다른 분이 낸 답\n",
    "# TestList=[120,150,300,500,1000,100,2000]\n",
    "# del TestList[TestList.index(min(TestList))]\n",
    "# del TestList[TestList.index(max(TestList))]\n",
    "# average = sum(TestList)/len(TestList)\n",
    "# average\n",
    "#414.0"
   ]
  },
  {
   "cell_type": "code",
   "execution_count": 8,
   "metadata": {},
   "outputs": [
    {
     "data": {
      "text/plain": [
       "414.0"
      ]
     },
     "execution_count": 8,
     "metadata": {},
     "output_type": "execute_result"
    }
   ],
   "source": [
    "#교수님의 답\n",
    "TestList=[120,150,300,500,1000,100,2000]\n",
    "\n",
    "#.sort()는 오름차순으로 정렬하라는 예약어.\n",
    "TestList.sort()\n",
    "\n",
    "#TestList의 0번째 리스트 요소를 삭제하라는 코드.\n",
    "del TestList[0]\n",
    "\n",
    "#del은 삭제하라는 예약어, TestList[len(TestList)-1]는 TestList의 len(길이를 뜻하는 예약어로, 리스트 내부의 길이를 뜻함. 길이는 리스트 내부에\n",
    "#존재하는 요소들의 합 ex-TestList=[1, 2, 3, 4, 5]일 때 길이는 '1, 2, 3, 4, 5'의 4개 요소를 뜻하며 0부터 세기 시작하기 때문에 5개가 들어있어도\n",
    "#총 요소 갯수는 4)중 마지막을 -, 빼라는 코드.\n",
    "del TestList[len(TestList)-1]\n",
    "\n",
    "#average라는 변수에 TestList 내부 요소들의 합(sum)을 len(TestList) TestList의 길이로 /(나누기)하라는 코드.\n",
    "average = sum(TestList)/len(TestList)\n",
    "\n",
    "average"
   ]
  },
  {
   "cell_type": "code",
   "execution_count": 10,
   "metadata": {},
   "outputs": [],
   "source": [
    "dict = { \"190113\":\"노트북 구매\", \"190114\":\"마우스 구매\"}"
   ]
  },
  {
   "cell_type": "code",
   "execution_count": 12,
   "metadata": {},
   "outputs": [
    {
     "data": {
      "text/plain": [
       "'노트북 구매'"
      ]
     },
     "execution_count": 12,
     "metadata": {},
     "output_type": "execute_result"
    }
   ],
   "source": [
    "dict[\"190113\"]"
   ]
  },
  {
   "cell_type": "code",
   "execution_count": 14,
   "metadata": {},
   "outputs": [],
   "source": [
    "import pandas as pd"
   ]
  },
  {
   "cell_type": "code",
   "execution_count": null,
   "metadata": {},
   "outputs": [],
   "source": []
  }
 ],
 "metadata": {
  "kernelspec": {
   "display_name": "Python 3",
   "language": "python",
   "name": "python3"
  },
  "language_info": {
   "codemirror_mode": {
    "name": "ipython",
    "version": 3
   },
   "file_extension": ".py",
   "mimetype": "text/x-python",
   "name": "python",
   "nbconvert_exporter": "python",
   "pygments_lexer": "ipython3",
   "version": "3.6.4"
  }
 },
 "nbformat": 4,
 "nbformat_minor": 2
}
