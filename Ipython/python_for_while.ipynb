{
 "cells": [
  {
   "cell_type": "code",
   "execution_count": 11,
   "metadata": {},
   "outputs": [],
   "source": [
    "tvList = ['UN40EN001', 'UN40EN002', 'UN40EN003', 'UN40EN004']"
   ]
  },
  {
   "cell_type": "code",
   "execution_count": 12,
   "metadata": {},
   "outputs": [
    {
     "data": {
      "text/plain": [
       "range(0, 4)"
      ]
     },
     "execution_count": 12,
     "metadata": {},
     "output_type": "execute_result"
    }
   ],
   "source": [
    "range(0, 4)#0에서부터 시작해 4개의 값 범위 지정"
   ]
  },
  {
   "cell_type": "code",
   "execution_count": 13,
   "metadata": {},
   "outputs": [
    {
     "data": {
      "text/plain": [
       "[0, 1, 2, 3]"
      ]
     },
     "execution_count": 13,
     "metadata": {},
     "output_type": "execute_result"
    }
   ],
   "source": [
    "list (range(0,4))#범위를 지정한 것을 list화. 4개의 값이기에 0,1,2,3,이 되었다."
   ]
  },
  {
   "cell_type": "code",
   "execution_count": 14,
   "metadata": {},
   "outputs": [],
   "source": [
    "preFix = \"LED_tv\""
   ]
  },
  {
   "cell_type": "code",
   "execution_count": 15,
   "metadata": {},
   "outputs": [],
   "source": [
    "for i in range(0, 4):\n",
    "    tvList[i] = preFix + tvList[i]\n",
    "#for문을 통해 리스트 내부 인덱스 값에 preFix 내부의 LED_tv 값을 문자열 더하기를 돌렸다."
   ]
  },
  {
   "cell_type": "code",
   "execution_count": 16,
   "metadata": {},
   "outputs": [
    {
     "data": {
      "text/plain": [
       "['LED_tvUN40EN001', 'LED_tvUN40EN002', 'LED_tvUN40EN003', 'LED_tvUN40EN004']"
      ]
     },
     "execution_count": 16,
     "metadata": {},
     "output_type": "execute_result"
    }
   ],
   "source": [
    "tvList"
   ]
  },
  {
   "cell_type": "code",
   "execution_count": 17,
   "metadata": {},
   "outputs": [],
   "source": [
    "i=0\n",
    "tvListLen = len(tvList)\n",
    "while (i < tvListLen):\n",
    "    tvList[i] = preFix + tvList[i]\n",
    "    i = i+ 1"
   ]
  },
  {
   "cell_type": "code",
   "execution_count": 18,
   "metadata": {},
   "outputs": [
    {
     "data": {
      "text/plain": [
       "['LED_tvLED_tvUN40EN001',\n",
       " 'LED_tvLED_tvUN40EN002',\n",
       " 'LED_tvLED_tvUN40EN003',\n",
       " 'LED_tvLED_tvUN40EN004']"
      ]
     },
     "execution_count": 18,
     "metadata": {},
     "output_type": "execute_result"
    }
   ],
   "source": [
    "tvList"
   ]
  },
  {
   "cell_type": "code",
   "execution_count": 19,
   "metadata": {},
   "outputs": [],
   "source": [
    "yearweekValue = \"2017w42\""
   ]
  },
  {
   "cell_type": "code",
   "execution_count": 20,
   "metadata": {},
   "outputs": [
    {
     "data": {
      "text/plain": [
       "['2017', '42']"
      ]
     },
     "execution_count": 20,
     "metadata": {},
     "output_type": "execute_result"
    }
   ],
   "source": [
    "yearweekValue.split(\"w\")"
   ]
  },
  {
   "cell_type": "code",
   "execution_count": 21,
   "metadata": {},
   "outputs": [
    {
     "data": {
      "text/plain": [
       "'2017'"
      ]
     },
     "execution_count": 21,
     "metadata": {},
     "output_type": "execute_result"
    }
   ],
   "source": [
    "yearweekValue[0:4]"
   ]
  },
  {
   "cell_type": "code",
   "execution_count": 22,
   "metadata": {},
   "outputs": [],
   "source": [
    "import pandas as pd"
   ]
  },
  {
   "cell_type": "code",
   "execution_count": 23,
   "metadata": {},
   "outputs": [
    {
     "name": "stdout",
     "output_type": "stream",
     "text": [
      "0\n",
      "3103500\n"
     ]
    },
    {
     "data": {
      "text/plain": [
       "35218.95312635417"
      ]
     },
     "execution_count": 23,
     "metadata": {},
     "output_type": "execute_result"
    }
   ],
   "source": [
    "customerData = pd.read_csv(\"../dataset/kopo_customerdata.csv\")\n",
    "customerTotalList = customerData[\"TOTAL_AMOUNT\"].tolist()\n",
    "print(min(customerTotalList))\n",
    "print(max(customerTotalList))\n",
    "del customerTotalList[customerTotalList.index(min(customerTotalList))]\n",
    "del customerTotalList[customerTotalList.index(max(customerTotalList))]\n",
    "average = sum(customerTotalList)/len(customerTotalList)\n",
    "average"
   ]
  },
  {
   "cell_type": "code",
   "execution_count": 24,
   "metadata": {},
   "outputs": [
    {
     "data": {
      "text/plain": [
       "35218.95312635417"
      ]
     },
     "execution_count": 24,
     "metadata": {},
     "output_type": "execute_result"
    }
   ],
   "source": [
    "customerData = pd.read_csv(\"../dataset/kopo_customerdata.csv\")\n",
    "customerTotalList = customerData[\"TOTAL_AMOUNT\"].tolist()\n",
    "customerTotalList.sort()\n",
    "del customerTotalList[0]\n",
    "del customerTotalList[len(customerTotalList)-1]\n",
    "average = sum(customerTotalList)/len(customerTotalList)\n",
    "average"
   ]
  },
  {
   "cell_type": "code",
   "execution_count": 25,
   "metadata": {},
   "outputs": [],
   "source": [
    "tvList = [\"UN40EN001\", \"LEDTV_UN40EN002\", \"LEDTV_LEDTV_UN40EN003\", \"UN40EN004\"]\n",
    "preFix = \"LEDTV_\"\n",
    "# fix = preFix*2\n",
    "# for i in range(0, 4):\n",
    "#     preFixCount = tvList2[i].count(preFix)\n",
    "#     if(preFixCount == 0):\n",
    "#     tvList2[i] = preFix + tvList2[i]\n",
    "#     elif(preFixCount == fix):\n",
    "#     tvList2.split(fix)\n",
    "#     else:\n",
    "#     tvList2[i] = tvList2[i]\n"
   ]
  },
  {
   "cell_type": "code",
   "execution_count": 16,
   "metadata": {},
   "outputs": [
    {
     "data": {
      "text/plain": [
       "['LEDTV_UN40EN001', 'LEDTV_UN40EN002', 'LEDTV_UN40EN003', 'LEDTV_UN40EN004']"
      ]
     },
     "execution_count": 16,
     "metadata": {},
     "output_type": "execute_result"
    }
   ],
   "source": [
    "tvList = [\"UN40EN001\", \"LEDTV_UN40EN002\", \"LEDTV_LEDTV_UN40EN003\", \"UN40EN004\"]#리스트 선언\n",
    "i = 0#i 값 지정\n",
    "tvListLen = len(tvList)#리스트 길이 값 변수 저장\n",
    "preFix= \"LEDTV_\"\n",
    "\n",
    "while(i < tvListLen):#i = 0이므로 0이 리스트의 길이보다 작을 때만 while문이 작동.\n",
    "    preFixCnt = tvList[i].count(preFix)#리스트 내부의 동적값[i]에 preFix가 몇개 붙어있는지 카운트.\n",
    "    if (preFixCnt == 0):\n",
    "        tvList[i] = preFix + tvList[i]\n",
    "        #만약 preFix가 안 붙어 있다면 preFix를 붙여준다.\n",
    "    elif(preFixCnt > 1):\n",
    "        #tvList[i] .replace(preFix, \"\") <- 최초에 내가 짠 코드. replace 앞에 '.'이 아니라 '='이 들어가야 했다.\n",
    "        tvList[i] = tvList[i].replace(preFix, \"\")\n",
    "        tvList[i] = preFix + tvList[i]\n",
    "        #만약 preFix가 1개를 초과해서 달려있으면 preFix를 \"\"로 replace하고 preFix를 하나 붙여준다.\n",
    "    else:\n",
    "        tvList[i] = tvList[i]\n",
    "        #preFix가 하나 붙어있을 경우는 else로 들어가게 되고 그 때는 변화없이 그대로 둔다.\n",
    "    i=i+1\n",
    "    \n",
    "tvList"
   ]
  },
  {
   "cell_type": "code",
   "execution_count": 35,
   "metadata": {},
   "outputs": [],
   "source": [
    "tvList = [\"UN40EN001\", \"LEDTV_UN40EN002\", \"LEDTV_LEDTV_UN40EN003\", \"UN40EN004\"]"
   ]
  },
  {
   "cell_type": "code",
   "execution_count": 36,
   "metadata": {},
   "outputs": [],
   "source": [
    "i=2"
   ]
  },
  {
   "cell_type": "code",
   "execution_count": 37,
   "metadata": {},
   "outputs": [
    {
     "data": {
      "text/plain": [
       "2"
      ]
     },
     "execution_count": 37,
     "metadata": {},
     "output_type": "execute_result"
    }
   ],
   "source": [
    "preFixCnt = tvList[i].count(preFix)\n",
    "preFixCnt"
   ]
  },
  {
   "cell_type": "code",
   "execution_count": 41,
   "metadata": {},
   "outputs": [
    {
     "data": {
      "text/plain": [
       "'LEDTV_UN40EN003'"
      ]
     },
     "execution_count": 41,
     "metadata": {},
     "output_type": "execute_result"
    }
   ],
   "source": [
    "tvList[i] = tvList[i].replace(preFix, \"\")\n",
    "#replace, sum 등 함수를 이용해 리스트나 변수의 값을 변화 시켰을 때 이를 이용하려면 다른 변수에 저장해야 할 필요가 있다.\n",
    "tvList[i] = preFix + tvList[i]\n",
    "\n",
    "tvList[i]"
   ]
  },
  {
   "cell_type": "code",
   "execution_count": 44,
   "metadata": {},
   "outputs": [],
   "source": [
    "def round2digit(display2Digit, value2):\n",
    "    value = 10#value 지정\n",
    "    digit = value ** value2#digit은 10의 value2승이다. value2가 2일 경우 10의 2승이 된다.\n",
    "    step1 = display2Digit * digit#주어진 display2Digit에 digit을 곱한다. 이를 통해 소수점 몇 자리까지 없앨 지 정하게 된다.\n",
    "    step2 = round(step1)#step1을 round한다.(반올림한다는 뜻이다.)\n",
    "    step3 = step2/digit#step2를 digit 값으로 나눈다.\n",
    "    return step3"
   ]
  },
  {
   "cell_type": "code",
   "execution_count": 45,
   "metadata": {},
   "outputs": [],
   "source": [
    "testValue = 12.123124553214235"
   ]
  },
  {
   "cell_type": "code",
   "execution_count": 51,
   "metadata": {},
   "outputs": [
    {
     "data": {
      "text/plain": [
       "12.12312"
      ]
     },
     "execution_count": 51,
     "metadata": {},
     "output_type": "execute_result"
    }
   ],
   "source": [
    "answer = round2digit(testValue, 5)\n",
    "answer"
   ]
  },
  {
   "cell_type": "code",
   "execution_count": 52,
   "metadata": {},
   "outputs": [],
   "source": [
    "value = 1.222553\n",
    "digit = 3"
   ]
  },
  {
   "cell_type": "code",
   "execution_count": 53,
   "metadata": {},
   "outputs": [],
   "source": [
    "def roundFunction(value, digit):\n",
    "    step1 = value * 10 ** digit\n",
    "    step2 = round(step1)\n",
    "    step3 = step2/10 ** digit\n",
    "    return step3"
   ]
  },
  {
   "cell_type": "code",
   "execution_count": 54,
   "metadata": {},
   "outputs": [],
   "source": [
    "# 리스트 = value\n",
    "def listFunction(value):\n",
    "    value.sort()\n",
    "    del value[0]\n",
    "    del value[len(value)-1]\n",
    "    sum(value)/len(value)\n",
    "    return sum(value)/len(value)"
   ]
  },
  {
   "cell_type": "code",
   "execution_count": 55,
   "metadata": {},
   "outputs": [
    {
     "data": {
      "text/plain": [
       "5.0"
      ]
     },
     "execution_count": 55,
     "metadata": {},
     "output_type": "execute_result"
    }
   ],
   "source": [
    "TESTLIST = [0, 1, 2, 3, 4, 5, 6, 7, 8, 9, 10]\n",
    "listFunction(TESTLIST)\n"
   ]
  },
  {
   "cell_type": "code",
   "execution_count": null,
   "metadata": {},
   "outputs": [],
   "source": []
  },
  {
   "cell_type": "code",
   "execution_count": null,
   "metadata": {},
   "outputs": [],
   "source": []
  },
  {
   "cell_type": "code",
   "execution_count": null,
   "metadata": {},
   "outputs": [],
   "source": []
  }
 ],
 "metadata": {
  "kernelspec": {
   "display_name": "Python 3",
   "language": "python",
   "name": "python3"
  },
  "language_info": {
   "codemirror_mode": {
    "name": "ipython",
    "version": 3
   },
   "file_extension": ".py",
   "mimetype": "text/x-python",
   "name": "python",
   "nbconvert_exporter": "python",
   "pygments_lexer": "ipython3",
   "version": "3.6.4"
  }
 },
 "nbformat": 4,
 "nbformat_minor": 2
}
